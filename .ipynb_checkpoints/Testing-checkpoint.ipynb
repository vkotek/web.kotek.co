{
 "cells": [
  {
   "cell_type": "markdown",
   "metadata": {},
   "source": [
    "# User Controller"
   ]
  },
  {
   "cell_type": "code",
   "execution_count": 432,
   "metadata": {},
   "outputs": [
    {
     "data": {
      "text/plain": [
       "[{'email': 'kotek.vojtech@gmail.com',\n",
       "  'preferences': [1, 2, 3, 4, 5],\n",
       "  'registered': '2019-06-09T14:44:45.387042',\n",
       "  'salt': 'iuJULL3kqw6HbzWJ',\n",
       "  'token': 'd94e18ce817eab9d6be258e72457ed3c2173afb1097b32b9426f704b',\n",
       "  'uuid': '027109c6-1658-402f-b890-d4a1fae9ad30',\n",
       "  'verified': False},\n",
       " {'email': 'kotek.vojtech+1@gmail.com',\n",
       "  'preferences': [1, 2, 3, 4, 5],\n",
       "  'registered': '2019-06-09T14:46:42.390832',\n",
       "  'salt': '97vjmkziWHc3KFoW',\n",
       "  'token': 'a03794dc3cde9500b21114dd34b643ab7478a9371a2c988ea7f53723',\n",
       "  'uuid': 'b1d75ea8-520c-4774-80f5-08457c632ae2',\n",
       "  'verified': False},\n",
       " {'email': 'test',\n",
       "  'preferences': [1, 2, 3, 4, 5],\n",
       "  'registered': '2019-06-09T14:48:26.139168',\n",
       "  'salt': 'pjAfE4s1FeqSa7kz',\n",
       "  'token': '87ab1ab23ba812d94da3b2677e88100de9ae2e2610f842c1d9dd28d1',\n",
       "  'uuid': 'ceff889c-d4e4-4292-9965-84a11f43db73',\n",
       "  'verified': False}]"
      ]
     },
     "execution_count": 432,
     "metadata": {},
     "output_type": "execute_result"
    }
   ],
   "source": [
    "import uuid\n",
    "import json\n",
    "import hashlib\n",
    "import random\n",
    "import requests\n",
    "\n",
    "subscribers_file = 'subscribers.json'\n",
    "\n",
    "class User(object):\n",
    "    \n",
    "    def __init__(self, uuid=None):\n",
    "        with open(subscribers_file, 'r') as f:\n",
    "            try:\n",
    "                self.users = json.load(f)\n",
    "            except:\n",
    "                self.users = []\n",
    "        if uuid:\n",
    "            return True\n",
    "                \n",
    "    def reload(self):\n",
    "        self.__init__()\n",
    "    \n",
    "    def add(self, email):\n",
    "        self.reload()\n",
    "        if self.exists(email=email):\n",
    "            return False\n",
    "        \n",
    "        salt = self.salt()\n",
    "        \n",
    "        new_user = {\n",
    "            'uuid': str(uuid.uuid4()),\n",
    "            'email': email,\n",
    "            'token': hashlib.sha224((salt + email).encode('UTF-8')).hexdigest(),\n",
    "            'verified': False,\n",
    "            'registered': datetime.now().isoformat(),\n",
    "            'preferences': [1,2,3,4,5],\n",
    "            'salt': salt,\n",
    "        }\n",
    "        \n",
    "        self.users.append(new_user)\n",
    "        self.save()\n",
    "        return new_user\n",
    "    \n",
    "    def get(self, uuid=None, email=None, token=None):\n",
    "        if not uuid and not email and not token:\n",
    "            return False\n",
    "        for user in self.users:\n",
    "            if user['uuid'] == uuid or user['email'] == email or user['token'] == token:\n",
    "                return user\n",
    "            \n",
    "    def get_preferences(self, email):\n",
    "        return self.get(email=email)['preferences']\n",
    "            \n",
    "    def save(self):\n",
    "        with open(subscribers_file, 'w') as f:\n",
    "            json.dump(self.users, f)\n",
    "        self.reload()\n",
    "        return True\n",
    "        \n",
    "    def update_preferences(self, uuid, new_preferences):\n",
    "        for i, user in enumerate(self.users):\n",
    "            if user['uuid'] == uuid:\n",
    "                self.users[i]['preferences'] = new_preferences\n",
    "                self.save()\n",
    "                return True\n",
    "        return False\n",
    "    \n",
    "    def generate_token(self, uuid):\n",
    "        token = self.salt(length=32)\n",
    "        return \"TOKEN\"\n",
    "    \n",
    "    def email_verification(self, uuid):\n",
    "        user = self.get(uuid=uuid)\n",
    "        return requests.post(\n",
    "            \"https://api.mailgun.net/v3/kotek.co/messages\",\n",
    "            auth=(\"api\", \"key-0500f40586ec016cbd2c131ea2222ae2\"),\n",
    "            data={\"from\": \"KOTEK.CO <vojtech@kotek.co>\",\n",
    "                \"to\": user['email'],\n",
    "                \"subject\": \"Verify your email\",\n",
    "                \"template\": \"email_verification\",\n",
    "                \"h:X-Mailgun-Variables\": json.dumps(user),\n",
    "                 })\n",
    "        \n",
    "    def update(self, uuid, option, value):\n",
    "        for i, user in enumerate(self.users):\n",
    "            if user['uuid'] == uuid:\n",
    "                self.users[i][option] = value\n",
    "                self.save()\n",
    "                self.reload()\n",
    "                return True\n",
    "        return False\n",
    "                \n",
    "    def verify(self, token):\n",
    "        for user in self.users:\n",
    "            print(token, user['token'])\n",
    "            if token == user['token']:\n",
    "                self.update(\n",
    "                    user['uuid'], 'verified', datetime.now().isoformat()\n",
    "                )\n",
    "                return True\n",
    "        return False\n",
    "    \n",
    "    def remove(uuid):\n",
    "        for i, user in enumerate(self.users):\n",
    "            if user['uuid'] == uuid:\n",
    "                return self.users.pop(i)\n",
    "        return False\n",
    "            \n",
    "    def exists(self, email=None, uuid=None):\n",
    "        \"\"\"Check whether the given user exists.\"\"\"\n",
    "        self.reload()\n",
    "        for user in self.users:\n",
    "            if user['email'] == email or user['uuid'] == uuid:\n",
    "                return True\n",
    "        return False\n",
    "    \n",
    "    def clear(self):\n",
    "        \"\"\"Deletes all subscribers from the database.\"\"\"\n",
    "        with open(subscribers_file, 'w') as f:\n",
    "            f.write(\"\")\n",
    "        self.reload()\n",
    "        \n",
    "    def salt(self=None, length=16):\n",
    "        \"\"\"Creates random salt of len 16 for user. Not yet implemented.\"\"\"\n",
    "        ALPHABET = \"0123456789abcdefghijklmnopqrstuvwxyzABCDEFGHIJKLMNOPQRSTUVWXYZ\"\n",
    "        chars = []\n",
    "        for char in range(length):\n",
    "            chars.append(random.choice(ALPHABET))\n",
    "        return \"\".join(chars)\n",
    "  \n",
    "x = User()\n",
    "User().users"
   ]
  },
  {
   "cell_type": "code",
   "execution_count": 431,
   "metadata": {},
   "outputs": [
    {
     "data": {
      "text/plain": [
       "<Response [200]>"
      ]
     },
     "execution_count": 431,
     "metadata": {},
     "output_type": "execute_result"
    }
   ],
   "source": [
    "\n",
    "# x.clear()\n",
    "# x.get_preferences(email='kotek.vojtech@gmail.com')\n",
    "# x.add('kotek.vojtech@gmail.com')\n",
    "# x.verify('xxx')\n",
    "# x.reload()\n",
    "# x.get(email='kotek.vojtech@gmail.com')\n",
    "# x.users\n",
    "# x.update_preferences(\"this-is-some-weird-uuid\", [1,2,3,4,\"X\"])\n",
    "x.email_verification('ceff889c-d4e4-4292-9965-84a11f43db73')\n",
    "\n",
    "# User.salt(length=32)"
   ]
  },
  {
   "cell_type": "code",
   "execution_count": 415,
   "metadata": {},
   "outputs": [
    {
     "name": "stdout",
     "output_type": "stream",
     "text": [
      "26a0895a62aca8f2b86a8003b141a78aa9379873380d29cea57a3605 26a0895a62aca8f2b86a8003b141a78aa9379873380d29cea57a3605\n",
      "found user!\n"
     ]
    },
    {
     "data": {
      "text/plain": [
       "True"
      ]
     },
     "execution_count": 415,
     "metadata": {},
     "output_type": "execute_result"
    }
   ],
   "source": [
    "x.verify(z['token'])"
   ]
  },
  {
   "cell_type": "code",
   "execution_count": 390,
   "metadata": {},
   "outputs": [],
   "source": [
    "x = {'email': 'kotek.vojtech@gmail.com',\n",
    "  'preferences': [1, 2, 3, 4, 5],\n",
    "  'registered': '2019-06-08T23:43:54.789965',\n",
    "  'token': 'thisisatokenbutnotarealone',\n",
    "  'uuid': '57688bca-b34f-425c-8fa0-e931fe818901',\n",
    "  'verified': False}"
   ]
  },
  {
   "cell_type": "code",
   "execution_count": 400,
   "metadata": {},
   "outputs": [
    {
     "name": "stdout",
     "output_type": "stream",
     "text": [
      "17Eq2zEkHgN6YQNK 608f8fad6ccf59f64045b72a474c57a045e3e6af629f3a6cf46eba18\n"
     ]
    }
   ],
   "source": [
    "import hashlib\n",
    "salt = User.salt()\n",
    "hash = hashlib.sha224((salt + x['email']).encode('UTF-8')).hexdigest()\n",
    "print(salt, hash)"
   ]
  },
  {
   "cell_type": "markdown",
   "metadata": {},
   "source": []
  },
  {
   "cell_type": "code",
   "execution_count": 125,
   "metadata": {
    "scrolled": true
   },
   "outputs": [
    {
     "name": "stdout",
     "output_type": "stream",
     "text": [
      "<_io.TextIOWrapper name='subscribers.json' mode='r' encoding='UTF-8'>\n"
     ]
    }
   ],
   "source": [
    "db_structure = {\n",
    "    'email': 'kotek.vojtech@gmail.com', \n",
    "    'token': 'x',\n",
    "    'verified': True,\n",
    "    'preferences': [1,2,3,4,5]\n",
    "}\n",
    "\n",
    "with open(subscribers_file, 'r') as subs:\n",
    "    print(subs)"
   ]
  },
  {
   "cell_type": "code",
   "execution_count": 43,
   "metadata": {
    "collapsed": true
   },
   "outputs": [],
   "source": [
    "preferences = {\n",
    "    1: \"Pastva\",\n",
    "    2: \"Sodexo, Riverview\",\n",
    "    3: \"Dave B, Weekly\",\n",
    "    4: \"Dave B, Daily\",\n",
    "    5: \"Potrefena Husa, Na Verandach\",\n",
    "}\n",
    "\n",
    "users_data = []\n",
    "# def add_user(email, preferences=None):\n",
    "#     if email in users_data\n",
    "    "
   ]
  },
  {
   "cell_type": "code",
   "execution_count": 93,
   "metadata": {},
   "outputs": [
    {
     "data": {
      "text/plain": [
       "False"
      ]
     },
     "execution_count": 93,
     "metadata": {},
     "output_type": "execute_result"
    }
   ],
   "source": [
    "import uuid as UUID\n",
    "\n",
    "def user_exists(uuid):\n",
    "    for user in users_data:\n",
    "        if user['email'] == email:\n",
    "            return user['token']\n",
    "        return False\n",
    "#     return any([email == user['email'] for user in users_data])\n",
    "\n",
    "def user_add(email):\n",
    "    if not user_exists(email):        \n",
    "        users_data.append({\n",
    "            'uuid': UUID.uuid4(),\n",
    "            'email': email, \n",
    "            'verified': False,\n",
    "        })\n",
    "        return True\n",
    "    return False\n",
    "    \n",
    "def user_remove(uuid):\n",
    "    if user_exists(uuid):\n",
    "        for i, user in enumerate(users_data):\n",
    "            if user['uuid'] == uuid:\n",
    "                users_data.pop(i)\n",
    "                return True\n",
    "    return False\n",
    "\n",
    "def user_info(uuid):\n",
    "    if user_exists(uuid):\n",
    "        for user in users_data:\n",
    "            if user['uuid'] == uuid:\n",
    "                return user\n",
    "    return False\n",
    "\n",
    "def user_verify(token):\n",
    "    # \n",
    "    if user_exists(email):\n",
    "        for i, user in enumerate(users_data):\n",
    "            if user['email'] == email:\n",
    "                users_data[i]['verified'] == True\n",
    "                return True\n",
    "    return False\n",
    "                \n",
    "def token_generate(email):\n",
    "    return \"GARGAETGHAETg\"\n",
    "    \n",
    "email = 'kotek.vojtech@gmail.com'\n",
    "user_info(email)"
   ]
  },
  {
   "cell_type": "code",
   "execution_count": 95,
   "metadata": {},
   "outputs": [
    {
     "data": {
      "text/plain": [
       "False"
      ]
     },
     "execution_count": 95,
     "metadata": {},
     "output_type": "execute_result"
    }
   ],
   "source": [
    "email = 'kotek.vojtech@gmail.com'\n",
    "# user_remove(email)\n",
    "user_add(email)\n",
    "user_exists(email)"
   ]
  },
  {
   "cell_type": "code",
   "execution_count": 96,
   "metadata": {},
   "outputs": [
    {
     "data": {
      "text/plain": [
       "[{'email': 'kotek.vojtech2@gmail.com', 'verified': False},\n",
       " {'email': 'kotek.vojtech@gmail.com',\n",
       "  'uuid': UUID('76657ac9-a384-4c36-9d27-83d1f5549d7a'),\n",
       "  'verified': False},\n",
       " {'email': 'kotek.vojtech@gmail.com',\n",
       "  'uuid': UUID('e567b9a1-4334-4307-a02f-a5f9a65f7b78'),\n",
       "  'verified': False}]"
      ]
     },
     "execution_count": 96,
     "metadata": {},
     "output_type": "execute_result"
    }
   ],
   "source": [
    "users_data"
   ]
  },
  {
   "cell_type": "code",
   "execution_count": 82,
   "metadata": {
    "collapsed": true
   },
   "outputs": [],
   "source": [
    "import uuid"
   ]
  },
  {
   "cell_type": "code",
   "execution_count": 86,
   "metadata": {},
   "outputs": [
    {
     "data": {
      "text/plain": [
       "UUID('17dc8468-8cab-421f-8735-b0acb3872ac3')"
      ]
     },
     "execution_count": 86,
     "metadata": {},
     "output_type": "execute_result"
    }
   ],
   "source": []
  },
  {
   "cell_type": "code",
   "execution_count": null,
   "metadata": {
    "collapsed": true
   },
   "outputs": [],
   "source": []
  }
 ],
 "metadata": {
  "kernelspec": {
   "display_name": "Python 3",
   "language": "python",
   "name": "python3"
  },
  "language_info": {
   "codemirror_mode": {
    "name": "ipython",
    "version": 3
   },
   "file_extension": ".py",
   "mimetype": "text/x-python",
   "name": "python",
   "nbconvert_exporter": "python",
   "pygments_lexer": "ipython3",
   "version": "3.5.2"
  }
 },
 "nbformat": 4,
 "nbformat_minor": 2
}
