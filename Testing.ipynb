{
 "cells": [
  {
   "cell_type": "markdown",
   "metadata": {},
   "source": [
    "# User Controller"
   ]
  },
  {
   "cell_type": "code",
   "execution_count": 469,
   "metadata": {
    "collapsed": true
   },
   "outputs": [],
   "source": [
    "from plugins import db"
   ]
  },
  {
   "cell_type": "code",
   "execution_count": 477,
   "metadata": {
    "collapsed": true
   },
   "outputs": [],
   "source": [
    "x = db.User()"
   ]
  },
  {
   "cell_type": "code",
   "execution_count": 487,
   "metadata": {},
   "outputs": [
    {
     "data": {
      "text/plain": [
       "{'email': 'vojtech.kotek@merck.com',\n",
       " 'preferences': ['1', '2', '3', '4', '5', '6', '7'],\n",
       " 'registered': '2019-06-10T00:28:28.923401',\n",
       " 'salt': 'xkrQ7QPmdvDe7yC4',\n",
       " 'token': '6bfd91fb60d19820a51c80fcce8e41615cf5060da154d03609d882ad',\n",
       " 'uuid': '4817621b-8127-4d9b-abb7-a234c03c420f',\n",
       " 'verified': '2019-06-10T00:28:28.924419'}"
      ]
     },
     "execution_count": 487,
     "metadata": {},
     "output_type": "execute_result"
    }
   ],
   "source": [
    "x.users[0]"
   ]
  },
  {
   "cell_type": "code",
   "execution_count": 526,
   "metadata": {
    "collapsed": true,
    "scrolled": true
   },
   "outputs": [],
   "source": [
    "from datetime import datetime\n",
    "import dateutil.parser\n",
    "\n",
    "def pretty_datetime(dt):\n",
    "    foo = dateutil.parser.parse(dt)\n",
    "    return datetime.strftime( foo, '%Y-%m-%d %H:%M')"
   ]
  },
  {
   "cell_type": "code",
   "execution_count": 527,
   "metadata": {},
   "outputs": [
    {
     "data": {
      "text/plain": [
       "'2019-06-10 00:28'"
      ]
     },
     "execution_count": 527,
     "metadata": {},
     "output_type": "execute_result"
    }
   ],
   "source": [
    "\n",
    "\n",
    "a = '2019-06-10T00:28:28.955992'\n",
    "\n",
    "pretty_datetime(a)"
   ]
  },
  {
   "cell_type": "code",
   "execution_count": 524,
   "metadata": {},
   "outputs": [
    {
     "data": {
      "text/plain": [
       "'2019-06-10 00:28'"
      ]
     },
     "execution_count": 524,
     "metadata": {},
     "output_type": "execute_result"
    }
   ],
   "source": [
    "datetime.strftime(b, '%Y-%m-%d %H:%M')"
   ]
  },
  {
   "cell_type": "code",
   "execution_count": 535,
   "metadata": {},
   "outputs": [
    {
     "data": {
      "text/plain": [
       "datetime.date(2019, 8, 25)"
      ]
     },
     "execution_count": 535,
     "metadata": {},
     "output_type": "execute_result"
    }
   ],
   "source": [
    "from datetime import datetime\n",
    "\n",
    "datetime.today().date()"
   ]
  },
  {
   "cell_type": "code",
   "execution_count": 1,
   "metadata": {
    "collapsed": true
   },
   "outputs": [],
   "source": [
    "from blueprints.lunchscraper import controller"
   ]
  },
  {
   "cell_type": "code",
   "execution_count": 2,
   "metadata": {},
   "outputs": [
    {
     "data": {
      "text/plain": [
       "<Response [200]>"
      ]
     },
     "execution_count": 2,
     "metadata": {},
     "output_type": "execute_result"
    }
   ],
   "source": [
    "controller.User().email_verification_html(\"4817621b-8127-4d9b-abb7-a234c03c420f\")"
   ]
  },
  {
   "cell_type": "code",
   "execution_count": 546,
   "metadata": {},
   "outputs": [
    {
     "data": {
      "text/plain": [
       "{'email': 'francesca.mendolia@merck.com',\n",
       " 'language': 'original',\n",
       " 'preferences': ['1', '2', '3', '4', '5', '6', '7', '8'],\n",
       " 'registered': '2019-09-06T09:28:26.875699',\n",
       " 'salt': '2a1lZfdygMD6PqE6',\n",
       " 'token': '3a47874a24b9cc6d51c45ab1ed479fab66e84403d807a4f773fe54a6',\n",
       " 'uuid': 'f28b9228-ec19-4d19-aa00-c035d07e1d0c',\n",
       " 'verified': False}"
      ]
     },
     "execution_count": 546,
     "metadata": {},
     "output_type": "execute_result"
    }
   ],
   "source": [
    "controller.User().get()[-1]"
   ]
  },
  {
   "cell_type": "code",
   "execution_count": 548,
   "metadata": {},
   "outputs": [
    {
     "ename": "TypeError",
     "evalue": "verify() got an unexpected keyword argument 'uuid'",
     "output_type": "error",
     "traceback": [
      "\u001b[0;31m---------------------------------------------------------------------------\u001b[0m",
      "\u001b[0;31mTypeError\u001b[0m                                 Traceback (most recent call last)",
      "\u001b[0;32m<ipython-input-548-3d6584ccc5f3>\u001b[0m in \u001b[0;36m<module>\u001b[0;34m()\u001b[0m\n\u001b[0;32m----> 1\u001b[0;31m \u001b[0mcontroller\u001b[0m\u001b[0;34m.\u001b[0m\u001b[0mUser\u001b[0m\u001b[0;34m(\u001b[0m\u001b[0;34m)\u001b[0m\u001b[0;34m.\u001b[0m\u001b[0mverify\u001b[0m\u001b[0;34m(\u001b[0m\u001b[0muuid\u001b[0m\u001b[0;34m=\u001b[0m\u001b[0;34m\"f28b9228-ec19-4d19-aa00-c035d07e1d0c\"\u001b[0m\u001b[0;34m)\u001b[0m\u001b[0;34m\u001b[0m\u001b[0m\n\u001b[0m",
      "\u001b[0;31mTypeError\u001b[0m: verify() got an unexpected keyword argument 'uuid'"
     ]
    }
   ],
   "source": [
    "controller.User().emao(token=\"f28b9228-ec19-4d19-aa00-c035d07e1d0c\")"
   ]
  },
  {
   "cell_type": "code",
   "execution_count": null,
   "metadata": {
    "collapsed": true
   },
   "outputs": [],
   "source": []
  },
  {
   "cell_type": "code",
   "execution_count": 13,
   "metadata": {
    "collapsed": true
   },
   "outputs": [],
   "source": [
    "key = \"QLJcPV9A5Z6uC9yeped7Gg\"\n",
    "secret = \"gPARgGYqmIxTxtE5B3slIYrYktpMujKyfgiGEqjkFc\"\n",
    "\n",
    "import requests\n",
    "\n",
    "url = \"https://www.goodreads.com/api/auth_user\""
   ]
  },
  {
   "cell_type": "code",
   "execution_count": 14,
   "metadata": {
    "collapsed": true
   },
   "outputs": [],
   "source": [
    "r = requests.get(url)"
   ]
  },
  {
   "cell_type": "code",
   "execution_count": 19,
   "metadata": {},
   "outputs": [
    {
     "data": {
      "text/plain": [
       "'Invalid OAuth Request\\n<!-- This is a random-length HTML comment: tdjpjopglgrntkyj -->'"
      ]
     },
     "execution_count": 19,
     "metadata": {},
     "output_type": "execute_result"
    }
   ],
   "source": [
    "r.text"
   ]
  },
  {
   "cell_type": "code",
   "execution_count": 110,
   "metadata": {
    "collapsed": true
   },
   "outputs": [],
   "source": [
    "\n",
    "def getsession():\n",
    "    with open('counter.txt', 'r+') as f:\n",
    "        lines = f.readlines()\n",
    "        lines.reverse()\n",
    "        for line in lines:\n",
    "            l = line.strip().split(\",\")\n",
    "            print(l)\n",
    "            if l[0] in ['START', 'END']:\n",
    "                print(\"YES\")\n",
    "                return l\n",
    "            \n",
    "def gettotaltime():\n",
    "    with open('counter.txt', 'r+') as f:\n",
    "        lines = f.readlines()\n",
    "        lines.reverse()\n",
    "        for line in lines:\n",
    "            l = line.strip().split(\",\")\n",
    "            print(l)\n",
    "            if l[0] in ['START', 'END']:\n",
    "                print(\"YES\")\n",
    "                return l\n",
    "\n",
    "def get_info():\n",
    "    with open('counter.txt', 'r+') as f:\n",
    "        lines = f.readlines()\n",
    "        lines.reverse()\n",
    "        \n",
    "        # Get total count\n",
    "        count = 0\n",
    "        for line in lines:\n",
    "            if 'ADD' in line:\n",
    "                count += 1\n",
    "        \n",
    "        # Get last start/end date\n",
    "        for line in lines:\n",
    "            l = line.strip().split(\",\")\n",
    "            print(l)\n",
    "            if l[0] in ['START', 'END']:\n",
    "                break\n",
    "        \n",
    "        # Get running status\n",
    "        \n",
    "        return {'pieces': count, 'status': l[0], 'time': l[1] }\n",
    "    "
   ]
  },
  {
   "cell_type": "code",
   "execution_count": 115,
   "metadata": {},
   "outputs": [
    {
     "name": "stdout",
     "output_type": "stream",
     "text": [
      "['ADD', '1579546704.584281']\n",
      "['piece', '1579546543.294611']\n",
      "['END', '1579459560.640415']\n"
     ]
    }
   ],
   "source": [
    "x = get_info()"
   ]
  },
  {
   "cell_type": "code",
   "execution_count": 123,
   "metadata": {},
   "outputs": [
    {
     "data": {
      "text/plain": [
       "'{\"status\": \"END\", \"pieces\": 126, \"time\": \"1579459560.640415\"}'"
      ]
     },
     "execution_count": 123,
     "metadata": {},
     "output_type": "execute_result"
    }
   ],
   "source": [
    "import json\n",
    "j = json.dumps(x)\n",
    "j"
   ]
  },
  {
   "cell_type": "code",
   "execution_count": 113,
   "metadata": {},
   "outputs": [
    {
     "data": {
      "text/plain": [
       "'19:34:18'"
      ]
     },
     "execution_count": 113,
     "metadata": {},
     "output_type": "execute_result"
    }
   ],
   "source": [
    "import datetime\n",
    "\n",
    "x = datetime.datetime.fromtimestamp(float(t))\n",
    "x.strftime(\"%H:%M:%S\")"
   ]
  },
  {
   "cell_type": "code",
   "execution_count": 129,
   "metadata": {},
   "outputs": [
    {
     "data": {
      "text/plain": [
       "['1', '2', '3']"
      ]
     },
     "execution_count": 129,
     "metadata": {},
     "output_type": "execute_result"
    }
   ],
   "source": [
    "preferences = ['1','2','3','3']\n",
    "\n",
    "preferences.remove('3')\n",
    "\n",
    "preferences"
   ]
  },
  {
   "cell_type": "code",
   "execution_count": null,
   "metadata": {
    "collapsed": true
   },
   "outputs": [],
   "source": []
  }
 ],
 "metadata": {
  "kernelspec": {
   "display_name": "Python 3",
   "language": "python",
   "name": "python3"
  },
  "language_info": {
   "codemirror_mode": {
    "name": "ipython",
    "version": 3
   },
   "file_extension": ".py",
   "mimetype": "text/x-python",
   "name": "python",
   "nbconvert_exporter": "python",
   "pygments_lexer": "ipython3",
   "version": "3.5.2"
  }
 },
 "nbformat": 4,
 "nbformat_minor": 2
}
