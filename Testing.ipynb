{
 "cells": [
  {
   "cell_type": "markdown",
   "metadata": {},
   "source": [
    "# User Controller"
   ]
  },
  {
   "cell_type": "code",
   "execution_count": null,
   "metadata": {},
   "outputs": [],
   "source": []
  },
  {
   "cell_type": "code",
   "execution_count": 451,
   "metadata": {},
   "outputs": [
    {
     "data": {
      "text/plain": [
       "[]"
      ]
     },
     "execution_count": 451,
     "metadata": {},
     "output_type": "execute_result"
    }
   ],
   "source": [
    "x.clear()\n",
    "x.users"
   ]
  },
  {
   "cell_type": "code",
   "execution_count": 452,
   "metadata": {
    "collapsed": true
   },
   "outputs": [],
   "source": [
    "emails = [\n",
    "    'kotek.vojtech@gmail.com',\n",
    "    'vojtech.kotek@merck.com',\n",
    "    'drahomira.platlova@merck.com',\n",
    "    'vaclav.senych@merck.com',\n",
    "    'jakub.pospichal@merck.com',\n",
    "    'lukas.langer1@merck.com',\n",
    "    'robert.varga@merck.com',\n",
    "    'lusine.grigoryan@merck.com',\n",
    "]\n",
    "\n",
    "for email in emails:\n",
    "    user = x.add(email)\n",
    "    x.verify(user['token'])\n",
    "\n",
    "# x.verify('xxx')\n",
    "# x.reload()\n",
    "# x.get(email='kotek.vojtech@gmail.com')\n",
    "# x.users\n",
    "# x.update_preferences(\"this-is-some-weird-uuid\", [1,2,3,4,\"X\"])\n",
    "# x.email_verification('b1d75ea8-520c-4774-80f5-08457c632ae2')\n",
    "\n",
    "# User.salt(length=32)"
   ]
  },
  {
   "cell_type": "code",
   "execution_count": 415,
   "metadata": {},
   "outputs": [
    {
     "name": "stdout",
     "output_type": "stream",
     "text": [
      "26a0895a62aca8f2b86a8003b141a78aa9379873380d29cea57a3605 26a0895a62aca8f2b86a8003b141a78aa9379873380d29cea57a3605\n",
      "found user!\n"
     ]
    },
    {
     "data": {
      "text/plain": [
       "True"
      ]
     },
     "execution_count": 415,
     "metadata": {},
     "output_type": "execute_result"
    }
   ],
   "source": [
    "x.verify(z['token'])"
   ]
  },
  {
   "cell_type": "code",
   "execution_count": 390,
   "metadata": {
    "collapsed": true
   },
   "outputs": [],
   "source": [
    "x = {'email': 'kotek.vojtech@gmail.com',\n",
    "  'preferences': [1, 2, 3, 4, 5],\n",
    "  'registered': '2019-06-08T23:43:54.789965',\n",
    "  'token': 'thisisatokenbutnotarealone',\n",
    "  'uuid': '57688bca-b34f-425c-8fa0-e931fe818901',\n",
    "  'verified': False}"
   ]
  },
  {
   "cell_type": "code",
   "execution_count": 400,
   "metadata": {},
   "outputs": [
    {
     "name": "stdout",
     "output_type": "stream",
     "text": [
      "17Eq2zEkHgN6YQNK 608f8fad6ccf59f64045b72a474c57a045e3e6af629f3a6cf46eba18\n"
     ]
    }
   ],
   "source": [
    "import hashlib\n",
    "salt = User.salt()\n",
    "hash = hashlib.sha224((salt + x['email']).encode('UTF-8')).hexdigest()\n",
    "print(salt, hash)"
   ]
  },
  {
   "cell_type": "markdown",
   "metadata": {},
   "source": []
  },
  {
   "cell_type": "code",
   "execution_count": 125,
   "metadata": {
    "scrolled": true
   },
   "outputs": [
    {
     "name": "stdout",
     "output_type": "stream",
     "text": [
      "<_io.TextIOWrapper name='subscribers.json' mode='r' encoding='UTF-8'>\n"
     ]
    }
   ],
   "source": [
    "db_structure = {\n",
    "    'email': 'kotek.vojtech@gmail.com', \n",
    "    'token': 'x',\n",
    "    'verified': True,\n",
    "    'preferences': [1,2,3,4,5]\n",
    "}\n",
    "\n",
    "with open(subscribers_file, 'r') as subs:\n",
    "    print(subs)"
   ]
  },
  {
   "cell_type": "code",
   "execution_count": 43,
   "metadata": {
    "collapsed": true
   },
   "outputs": [],
   "source": [
    "preferences = {\n",
    "    1: \"Pastva\",\n",
    "    2: \"Sodexo, Riverview\",\n",
    "    3: \"Dave B, Weekly\",\n",
    "    4: \"Dave B, Daily\",\n",
    "    5: \"Potrefena Husa, Na Verandach\",\n",
    "}\n",
    "\n",
    "users_data = []\n",
    "# def add_user(email, preferences=None):\n",
    "#     if email in users_data\n",
    "    "
   ]
  },
  {
   "cell_type": "code",
   "execution_count": 93,
   "metadata": {},
   "outputs": [
    {
     "data": {
      "text/plain": [
       "False"
      ]
     },
     "execution_count": 93,
     "metadata": {},
     "output_type": "execute_result"
    }
   ],
   "source": [
    "import uuid as UUID\n",
    "\n",
    "def user_exists(uuid):\n",
    "    for user in users_data:\n",
    "        if user['email'] == email:\n",
    "            return user['token']\n",
    "        return False\n",
    "#     return any([email == user['email'] for user in users_data])\n",
    "\n",
    "def user_add(email):\n",
    "    if not user_exists(email):        \n",
    "        users_data.append({\n",
    "            'uuid': UUID.uuid4(),\n",
    "            'email': email, \n",
    "            'verified': False,\n",
    "        })\n",
    "        return True\n",
    "    return False\n",
    "    \n",
    "def user_remove(uuid):\n",
    "    if user_exists(uuid):\n",
    "        for i, user in enumerate(users_data):\n",
    "            if user['uuid'] == uuid:\n",
    "                users_data.pop(i)\n",
    "                return True\n",
    "    return False\n",
    "\n",
    "def user_info(uuid):\n",
    "    if user_exists(uuid):\n",
    "        for user in users_data:\n",
    "            if user['uuid'] == uuid:\n",
    "                return user\n",
    "    return False\n",
    "\n",
    "def user_verify(token):\n",
    "    # \n",
    "    if user_exists(email):\n",
    "        for i, user in enumerate(users_data):\n",
    "            if user['email'] == email:\n",
    "                users_data[i]['verified'] == True\n",
    "                return True\n",
    "    return False\n",
    "                \n",
    "def token_generate(email):\n",
    "    return \"GARGAETGHAETg\"\n",
    "    \n",
    "email = 'kotek.vojtech@gmail.com'\n",
    "user_info(email)"
   ]
  },
  {
   "cell_type": "code",
   "execution_count": 95,
   "metadata": {},
   "outputs": [
    {
     "data": {
      "text/plain": [
       "False"
      ]
     },
     "execution_count": 95,
     "metadata": {},
     "output_type": "execute_result"
    }
   ],
   "source": [
    "email = 'kotek.vojtech@gmail.com'\n",
    "# user_remove(email)\n",
    "user_add(email)\n",
    "user_exists(email)"
   ]
  },
  {
   "cell_type": "code",
   "execution_count": 96,
   "metadata": {},
   "outputs": [
    {
     "data": {
      "text/plain": [
       "[{'email': 'kotek.vojtech2@gmail.com', 'verified': False},\n",
       " {'email': 'kotek.vojtech@gmail.com',\n",
       "  'uuid': UUID('76657ac9-a384-4c36-9d27-83d1f5549d7a'),\n",
       "  'verified': False},\n",
       " {'email': 'kotek.vojtech@gmail.com',\n",
       "  'uuid': UUID('e567b9a1-4334-4307-a02f-a5f9a65f7b78'),\n",
       "  'verified': False}]"
      ]
     },
     "execution_count": 96,
     "metadata": {},
     "output_type": "execute_result"
    }
   ],
   "source": [
    "users_data"
   ]
  },
  {
   "cell_type": "code",
   "execution_count": 82,
   "metadata": {
    "collapsed": true
   },
   "outputs": [],
   "source": [
    "import uuid"
   ]
  },
  {
   "cell_type": "code",
   "execution_count": 86,
   "metadata": {},
   "outputs": [
    {
     "data": {
      "text/plain": [
       "UUID('17dc8468-8cab-421f-8735-b0acb3872ac3')"
      ]
     },
     "execution_count": 86,
     "metadata": {},
     "output_type": "execute_result"
    }
   ],
   "source": []
  },
  {
   "cell_type": "code",
   "execution_count": null,
   "metadata": {
    "collapsed": true
   },
   "outputs": [],
   "source": []
  }
 ],
 "metadata": {
  "kernelspec": {
   "display_name": "Python 3",
   "language": "python",
   "name": "python3"
  },
  "language_info": {
   "codemirror_mode": {
    "name": "ipython",
    "version": 3
   },
   "file_extension": ".py",
   "mimetype": "text/x-python",
   "name": "python",
   "nbconvert_exporter": "python",
   "pygments_lexer": "ipython3",
   "version": "3.5.2"
  }
 },
 "nbformat": 4,
 "nbformat_minor": 2
}
