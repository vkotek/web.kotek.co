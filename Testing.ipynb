{
 "cells": [
  {
   "cell_type": "markdown",
   "metadata": {},
   "source": [
    "# User Controller"
   ]
  },
  {
   "cell_type": "code",
   "execution_count": 21,
   "metadata": {
    "collapsed": true
   },
   "outputs": [],
   "source": [
    "from plugins import db"
   ]
  },
  {
   "cell_type": "code",
   "execution_count": 22,
   "metadata": {
    "collapsed": true
   },
   "outputs": [],
   "source": [
    "x = db.User()"
   ]
  },
  {
   "cell_type": "code",
   "execution_count": 23,
   "metadata": {},
   "outputs": [
    {
     "data": {
      "text/plain": [
       "{'verified': '2019-06-10T00:28:28.938727',\n",
       " 'preferences': ['1',\n",
       "  '2',\n",
       "  '3',\n",
       "  '5',\n",
       "  '4',\n",
       "  '6',\n",
       "  '7',\n",
       "  '8',\n",
       "  '11',\n",
       "  '12',\n",
       "  '13',\n",
       "  '15',\n",
       "  '16'],\n",
       " 'email': 'drahomira.platlova@merck.com',\n",
       " 'uuid': 'd3d4883e-5d9c-440c-bcc4-9c44109e54dd',\n",
       " 'language': 'original',\n",
       " 'token': 'e41fa40e579e82fc8cb8e7e187543dea4ce77b4fbd3dae2b5b4e0bae',\n",
       " 'salt': 'JITuzV9ay7HbBRSO',\n",
       " 'registered': '2019-06-10T00:28:28.931836'}"
      ]
     },
     "execution_count": 23,
     "metadata": {},
     "output_type": "execute_result"
    }
   ],
   "source": [
    "x.users[0]"
   ]
  },
  {
   "cell_type": "code",
   "execution_count": 526,
   "metadata": {
    "collapsed": true,
    "scrolled": true
   },
   "outputs": [],
   "source": [
    "from datetime import datetime\n",
    "import dateutil.parser\n",
    "\n",
    "def pretty_datetime(dt):\n",
    "    foo = dateutil.parser.parse(dt)\n",
    "    return datetime.strftime( foo, '%Y-%m-%d %H:%M')"
   ]
  },
  {
   "cell_type": "code",
   "execution_count": 527,
   "metadata": {},
   "outputs": [
    {
     "data": {
      "text/plain": [
       "'2019-06-10 00:28'"
      ]
     },
     "execution_count": 527,
     "metadata": {},
     "output_type": "execute_result"
    }
   ],
   "source": [
    "a = '2019-06-10T00:28:28.955992'\n",
    "\n",
    "pretty_datetime(a)"
   ]
  },
  {
   "cell_type": "code",
   "execution_count": 524,
   "metadata": {},
   "outputs": [
    {
     "data": {
      "text/plain": [
       "'2019-06-10 00:28'"
      ]
     },
     "execution_count": 524,
     "metadata": {},
     "output_type": "execute_result"
    }
   ],
   "source": [
    "datetime.strftime(b, '%Y-%m-%d %H:%M')"
   ]
  },
  {
   "cell_type": "code",
   "execution_count": 535,
   "metadata": {},
   "outputs": [
    {
     "data": {
      "text/plain": [
       "datetime.date(2019, 8, 25)"
      ]
     },
     "execution_count": 535,
     "metadata": {},
     "output_type": "execute_result"
    }
   ],
   "source": [
    "from datetime import datetime\n",
    "\n",
    "datetime.today().date()"
   ]
  },
  {
   "cell_type": "code",
   "execution_count": 1,
   "metadata": {
    "collapsed": true
   },
   "outputs": [],
   "source": [
    "from blueprints.lunchscraper import controller"
   ]
  },
  {
   "cell_type": "code",
   "execution_count": 2,
   "metadata": {},
   "outputs": [
    {
     "data": {
      "text/plain": [
       "<Response [200]>"
      ]
     },
     "execution_count": 2,
     "metadata": {},
     "output_type": "execute_result"
    }
   ],
   "source": [
    "controller.User().email_verification_html(\"4817621b-8127-4d9b-abb7-a234c03c420f\")"
   ]
  },
  {
   "cell_type": "code",
   "execution_count": 546,
   "metadata": {},
   "outputs": [
    {
     "data": {
      "text/plain": [
       "{'email': 'francesca.mendolia@merck.com',\n",
       " 'language': 'original',\n",
       " 'preferences': ['1', '2', '3', '4', '5', '6', '7', '8'],\n",
       " 'registered': '2019-09-06T09:28:26.875699',\n",
       " 'salt': '2a1lZfdygMD6PqE6',\n",
       " 'token': '3a47874a24b9cc6d51c45ab1ed479fab66e84403d807a4f773fe54a6',\n",
       " 'uuid': 'f28b9228-ec19-4d19-aa00-c035d07e1d0c',\n",
       " 'verified': False}"
      ]
     },
     "execution_count": 546,
     "metadata": {},
     "output_type": "execute_result"
    }
   ],
   "source": [
    "controller.User().get()[-1]"
   ]
  },
  {
   "cell_type": "code",
   "execution_count": 548,
   "metadata": {},
   "outputs": [
    {
     "ename": "TypeError",
     "evalue": "verify() got an unexpected keyword argument 'uuid'",
     "output_type": "error",
     "traceback": [
      "\u001b[0;31m---------------------------------------------------------------------------\u001b[0m",
      "\u001b[0;31mTypeError\u001b[0m                                 Traceback (most recent call last)",
      "\u001b[0;32m<ipython-input-548-3d6584ccc5f3>\u001b[0m in \u001b[0;36m<module>\u001b[0;34m()\u001b[0m\n\u001b[0;32m----> 1\u001b[0;31m \u001b[0mcontroller\u001b[0m\u001b[0;34m.\u001b[0m\u001b[0mUser\u001b[0m\u001b[0;34m(\u001b[0m\u001b[0;34m)\u001b[0m\u001b[0;34m.\u001b[0m\u001b[0mverify\u001b[0m\u001b[0;34m(\u001b[0m\u001b[0muuid\u001b[0m\u001b[0;34m=\u001b[0m\u001b[0;34m\"f28b9228-ec19-4d19-aa00-c035d07e1d0c\"\u001b[0m\u001b[0;34m)\u001b[0m\u001b[0;34m\u001b[0m\u001b[0m\n\u001b[0m",
      "\u001b[0;31mTypeError\u001b[0m: verify() got an unexpected keyword argument 'uuid'"
     ]
    }
   ],
   "source": [
    "controller.User().emao(token=\"f28b9228-ec19-4d19-aa00-c035d07e1d0c\")"
   ]
  },
  {
   "cell_type": "code",
   "execution_count": null,
   "metadata": {
    "collapsed": true
   },
   "outputs": [],
   "source": []
  },
  {
   "cell_type": "code",
   "execution_count": 13,
   "metadata": {
    "collapsed": true
   },
   "outputs": [],
   "source": [
    "key = \"QLJcPV9A5Z6uC9yeped7Gg\"\n",
    "secret = \"gPARgGYqmIxTxtE5B3slIYrYktpMujKyfgiGEqjkFc\"\n",
    "\n",
    "import requests\n",
    "\n",
    "url = \"https://www.goodreads.com/api/auth_user\""
   ]
  },
  {
   "cell_type": "code",
   "execution_count": 14,
   "metadata": {
    "collapsed": true
   },
   "outputs": [],
   "source": [
    "r = requests.get(url)"
   ]
  },
  {
   "cell_type": "code",
   "execution_count": 19,
   "metadata": {},
   "outputs": [
    {
     "data": {
      "text/plain": [
       "'Invalid OAuth Request\\n<!-- This is a random-length HTML comment: tdjpjopglgrntkyj -->'"
      ]
     },
     "execution_count": 19,
     "metadata": {},
     "output_type": "execute_result"
    }
   ],
   "source": [
    "r.text"
   ]
  },
  {
   "cell_type": "code",
   "execution_count": 270,
   "metadata": {
    "collapsed": true
   },
   "outputs": [],
   "source": [
    "def get_info():\n",
    "    with open('counter.txt', 'r+', encoding=\"utf-8-sig\") as f:\n",
    "        lines = f.readlines()\n",
    "        lines.reverse()\n",
    "        \n",
    "        # Get total count\n",
    "        count = 0\n",
    "        for line in lines:\n",
    "            if 'ADD' in line:\n",
    "                count += 1\n",
    "        \n",
    "        # Get last start/end date\n",
    "        for line in lines:\n",
    "            state = line.strip().split(\";\")\n",
    "            if state[0] in ['START', 'END']:\n",
    "                break\n",
    "        \n",
    "        time = int( state[1] )\n",
    "        time_nice = dt.datetime.fromtimestamp(time).strftime(\"%H:%M:%S\")\n",
    "            \n",
    "        return {'pieces': count, 'status': state[0], 'time': time ,'time_pretty': time_nice  }"
   ]
  },
  {
   "cell_type": "code",
   "execution_count": 271,
   "metadata": {},
   "outputs": [
    {
     "data": {
      "text/plain": [
       "{'pieces': 3911,\n",
       " 'status': 'END',\n",
       " 'time': 1588922262,\n",
       " 'time_pretty': '09:17:42'}"
      ]
     },
     "execution_count": 271,
     "metadata": {},
     "output_type": "execute_result"
    }
   ],
   "source": [
    "get_info()"
   ]
  },
  {
   "cell_type": "code",
   "execution_count": 292,
   "metadata": {
    "collapsed": true
   },
   "outputs": [],
   "source": [
    "import datetime as dt\n",
    "def get_sessions():\n",
    "    with open('counter.txt', 'r+', encoding=\"utf-8-sig\") as f:\n",
    "        lines = f.readlines()\n",
    "        \n",
    "    sessions = []\n",
    "    \n",
    "    for n, line in enumerate(lines):\n",
    "        \n",
    "        try:\n",
    "            action, timestamp = line.split(';')\n",
    "\n",
    "            if action == \"STA\":\n",
    "                session = {\n",
    "                    \"START\": round(float(timestamp.strip())),\n",
    "                    \"PIECES\": 0,\n",
    "                }\n",
    "            elif action == \"ADD\":\n",
    "                session['PIECES'] += 1\n",
    "            elif action == \"END\":\n",
    "                session[\"END\"] = round(float(timestamp.strip()))\n",
    "                session[\"DURATION\"] = session[\"END\"] - session[\"START\"]\n",
    "                session[\"START\"] = dt.datetime.fromtimestamp(session[\"START\"]).strftime(\"%Y-%m-%d %H:%M:%S\")\n",
    "                session[\"END\"] = dt.datetime.fromtimestamp(session[\"END\"]).strftime(\"%Y-%m-%d %H:%M:%S\")\n",
    "                sessions += [session]\n",
    "        except Exception as e:\n",
    "            print(\"ERROR: {}\\nLINE: {}\\nVALUE: {}\".format(e, n, line))\n",
    "            \n",
    "    return sessions"
   ]
  },
  {
   "cell_type": "code",
   "execution_count": 293,
   "metadata": {},
   "outputs": [],
   "source": [
    "x = get_sessions()\n"
   ]
  },
  {
   "cell_type": "code",
   "execution_count": 315,
   "metadata": {},
   "outputs": [],
   "source": [
    "x[-1]['START'][:10]  == dt.date.today().isoformat()\n",
    "\n",
    "today = dt.date.today().isoformat()\n",
    "yesterday = (dt.date.today() - dt.timedelta(days=1)).isoformat()"
   ]
  },
  {
   "cell_type": "code",
   "execution_count": 316,
   "metadata": {},
   "outputs": [
    {
     "data": {
      "text/plain": [
       "'2020-05-08'"
      ]
     },
     "execution_count": 316,
     "metadata": {},
     "output_type": "execute_result"
    }
   ],
   "source": [
    "yesterday"
   ]
  },
  {
   "cell_type": "code",
   "execution_count": 280,
   "metadata": {
    "collapsed": true
   },
   "outputs": [],
   "source": [
    "import pandas as pd\n",
    "import matplotlib.pyplot as plt\n",
    "\n",
    "%matplotlib inline\n",
    "\n",
    "import seaborn as sns"
   ]
  },
  {
   "cell_type": "code",
   "execution_count": 281,
   "metadata": {
    "collapsed": true
   },
   "outputs": [],
   "source": [
    "df = pd.DataFrame(x)"
   ]
  },
  {
   "cell_type": "code",
   "execution_count": 282,
   "metadata": {
    "collapsed": true
   },
   "outputs": [],
   "source": [
    "df['DATE'] = pd.to_datetime(df['START']).dt.date"
   ]
  },
  {
   "cell_type": "code",
   "execution_count": 283,
   "metadata": {},
   "outputs": [
    {
     "data": {
      "text/plain": [
       "DATE\n",
       "2020-01-19    125\n",
       "2020-01-21      3\n",
       "2020-01-22     18\n",
       "2020-01-23      4\n",
       "2020-02-02    102\n",
       "2020-02-03    100\n",
       "2020-02-04      4\n",
       "2020-02-07    109\n",
       "2020-02-08    150\n",
       "2020-02-09    104\n",
       "2020-02-10     42\n",
       "2020-02-15     59\n",
       "2020-02-16     51\n",
       "2020-02-18     48\n",
       "2020-02-20     20\n",
       "2020-02-23     16\n",
       "2020-03-04     41\n",
       "2020-03-08     28\n",
       "2020-03-09     10\n",
       "2020-03-16     68\n",
       "2020-03-17     35\n",
       "2020-03-21    135\n",
       "2020-03-24    133\n",
       "2020-03-25      7\n",
       "2020-03-27     60\n",
       "2020-03-28     69\n",
       "2020-04-03      4\n",
       "2020-04-04     62\n",
       "2020-04-05     20\n",
       "2020-04-06     16\n",
       "2020-04-09     65\n",
       "2020-04-12     45\n",
       "2020-04-13     94\n",
       "2020-04-15     36\n",
       "2020-04-16     15\n",
       "2020-04-17     16\n",
       "2020-04-18    214\n",
       "2020-04-19    183\n",
       "2020-04-20     24\n",
       "2020-04-21     65\n",
       "2020-04-22    100\n",
       "2020-04-23    100\n",
       "2020-04-24      4\n",
       "2020-04-25    232\n",
       "2020-04-26     77\n",
       "2020-04-28     25\n",
       "2020-04-29    111\n",
       "2020-04-30    125\n",
       "2020-05-01    250\n",
       "2020-05-02     71\n",
       "2020-05-03    119\n",
       "2020-05-04     27\n",
       "2020-05-05     45\n",
       "2020-05-07    104\n",
       "2020-05-08    120\n",
       "Name: PIECES, dtype: int64"
      ]
     },
     "execution_count": 283,
     "metadata": {},
     "output_type": "execute_result"
    }
   ],
   "source": [
    "df.groupby('DATE')['PIECES'].sum()"
   ]
  },
  {
   "cell_type": "code",
   "execution_count": 284,
   "metadata": {},
   "outputs": [
    {
     "data": {
      "text/plain": [
       "71.0909090909091"
      ]
     },
     "execution_count": 284,
     "metadata": {},
     "output_type": "execute_result"
    }
   ],
   "source": [
    "df.groupby('DATE')['PIECES'].sum().mean()"
   ]
  },
  {
   "cell_type": "code",
   "execution_count": 285,
   "metadata": {
    "collapsed": true
   },
   "outputs": [],
   "source": [
    "df['DATE'] = pd.to_datetime(df['DATE'])\n",
    "df['CUMSUM'] = df['PIECES'].cumsum()"
   ]
  },
  {
   "cell_type": "code",
   "execution_count": 286,
   "metadata": {
    "collapsed": true
   },
   "outputs": [],
   "source": [
    "df2020 = pd.DataFrame(pd.date_range(\"2020/01/01\",\"2020/12/31\"))\n",
    "df2020 = pd.DataFrame(pd.date_range(\"2020/01/01\",\"2020/04/30\"))\n",
    "df2020.columns = ['DATE']"
   ]
  },
  {
   "cell_type": "code",
   "execution_count": 287,
   "metadata": {
    "collapsed": true
   },
   "outputs": [],
   "source": [
    "dfx = pd.merge(df2020, df, how=\"left\", left_on=\"DATE\", right_on=\"DATE\")"
   ]
  },
  {
   "cell_type": "code",
   "execution_count": 288,
   "metadata": {},
   "outputs": [
    {
     "data": {
      "text/plain": [
       "<matplotlib.axes._subplots.AxesSubplot at 0x7fd40fc23748>"
      ]
     },
     "execution_count": 288,
     "metadata": {},
     "output_type": "execute_result"
    },
    {
     "data": {
      "image/png": "[encoded data removed]",
      "text/plain": [
       "<Figure size 432x288 with 1 Axes>"
      ]
     },
     "metadata": {
      "needs_background": "light"
     },
     "output_type": "display_data"
    }
   ],
   "source": [
    "dfx.plot(x='DATE', y='PIECES', kind='scatter')"
   ]
  },
  {
   "cell_type": "code",
   "execution_count": 289,
   "metadata": {},
   "outputs": [
    {
     "data": {
      "text/plain": [
       "<matplotlib.axes._subplots.AxesSubplot at 0x7fd4100e6828>"
      ]
     },
     "execution_count": 289,
     "metadata": {},
     "output_type": "execute_result"
    },
    {
     "data": {
      "image/png": "[encoded data removed]",
      "text/plain": [
       "<Figure size 864x576 with 1 Axes>"
      ]
     },
     "metadata": {
      "needs_background": "light"
     },
     "output_type": "display_data"
    }
   ],
   "source": [
    "dfx.plot(x='DATE', y='CUMSUM', kind='line', figsize=(12,8))"
   ]
  },
  {
   "cell_type": "code",
   "execution_count": null,
   "metadata": {
    "collapsed": true
   },
   "outputs": [],
   "source": []
  },
  {
   "cell_type": "code",
   "execution_count": 154,
   "metadata": {},
   "outputs": [
    {
     "data": {
      "text/plain": [
       "23.686567164179106"
      ]
     },
     "execution_count": 154,
     "metadata": {},
     "output_type": "execute_result"
    }
   ],
   "source": [
    "dfx.PIECES.mean()"
   ]
  },
  {
   "cell_type": "code",
   "execution_count": 155,
   "metadata": {
    "collapsed": true
   },
   "outputs": [],
   "source": [
    "dfx.PIECES = dfx.PIECES.fillna(0)"
   ]
  },
  {
   "cell_type": "code",
   "execution_count": 163,
   "metadata": {
    "collapsed": true
   },
   "outputs": [],
   "source": [
    "daily = dfx.groupby([\"DATE\"]).PIECES.sum()"
   ]
  },
  {
   "cell_type": "code",
   "execution_count": 166,
   "metadata": {},
   "outputs": [
    {
     "data": {
      "text/plain": [
       "26.231404958677686"
      ]
     },
     "execution_count": 166,
     "metadata": {},
     "output_type": "execute_result"
    }
   ],
   "source": [
    "daily.mean()"
   ]
  },
  {
   "cell_type": "code",
   "execution_count": 257,
   "metadata": {
    "collapsed": true
   },
   "outputs": [],
   "source": [
    "import datetime, pandas as pd\n",
    "\n",
    "class PuzzleCounter():\n",
    "\n",
    "    def __init__(self):\n",
    "        # with open('counter.txt', 'r+', encoding=\"utf-8-sig\") as f:\n",
    "        self.load_data()\n",
    "        self.errors = []\n",
    "        \n",
    "#         with open('/home/vojtech/web.kotek.co/myapp/counter.txt', 'r+', encoding=\"utf-8-sig\") as f:\n",
    "#             self.lines = f.readlines()\n",
    "            \n",
    "#             self.dataframe = pandas.DataFrame(self.get_sessions())\n",
    "#             self.counter = f.readlines()\n",
    "#             self.count = self.count()\n",
    "#             self.sessions = self.sessions()\n",
    "#             self.last = self.sessions[-1]\n",
    "#             self.state = self.state() # (state, time started (unix), time started (nice))\n",
    "        pass\n",
    "    \n",
    "    def load_data(self):\n",
    "        with open('/home/vojtech/web.kotek.co/myapp/counter.txt', 'r+', encoding=\"utf-8-sig\") as f:\n",
    "            self.lines = f.readlines()\n",
    "        pass\n",
    "    \n",
    "    def dataframe(self):\n",
    "        self.sesions = self.get_sessions()\n",
    "        self.dataframe = pd.DataFrame(self.sessions)\n",
    "        return self.dataframe\n",
    "\n",
    "    def add(self, action):\n",
    "        \n",
    "        if action not in ('STA','END','ADD'):\n",
    "            print(\"ERROR! Wrong action:\", action)\n",
    "            return False\n",
    "        \n",
    "        with open('/home/vojtech/web.kotek.co/myapp/counter.txt', 'a', encoding=\"utf-8-sig\") as f:\n",
    "            f.write('\\n{};{}')\n",
    "        pass\n",
    "\n",
    "    def count(self):\n",
    "\n",
    "        # Get total count\n",
    "        count = 0\n",
    "        for line in self.lines:\n",
    "            if 'ADD' in line:\n",
    "                count += 1\n",
    "\n",
    "        return count\n",
    "    \n",
    "    def elapsed_seconds(self):\n",
    "        seconds = 0\n",
    "        return [seconds+x['DURATION'] for x in self.sessions]\n",
    "\n",
    "    def sessions(self):\n",
    "\n",
    "        sessions = []\n",
    "\n",
    "        for n, line in enumerate(self.lines):\n",
    "\n",
    "            try:\n",
    "                action, timestamp = line.split(';')\n",
    "\n",
    "                if action == \"STA\":\n",
    "                    session = {\n",
    "                        \"START\": round(float(timestamp.strip())),\n",
    "                        \"PIECES\": 0,\n",
    "                    }\n",
    "                elif action == \"ADD\":\n",
    "                    session['PIECES'] += 1\n",
    "                elif action == \"END\":\n",
    "                    session[\"END\"] = round(float(timestamp.strip()))\n",
    "                    session[\"DURATION\"] = session[\"END\"] - session[\"START\"]\n",
    "                    session[\"START\"] = datetime.datetime.fromtimestamp(session[\"START\"]).strftime(\"%Y-%m-%d %H:%M:%S\")\n",
    "                    session[\"END\"] = datetime.datetime.fromtimestamp(session[\"END\"]).strftime(\"%Y-%m-%d %H:%M:%S\")\n",
    "                    sessions += [session]\n",
    "            except Exception as e:\n",
    "                error = \"ERROR: {}\\nLINE: {}\\nVALUE: {}\".format(e, n, line)\n",
    "                self.errors += [error]\n",
    "                print(error)\n",
    "\n",
    "        return sessions\n",
    "\n",
    "    def state(self):\n",
    "\n",
    "        lines = self.lines\n",
    "        lines.reverse()\n",
    "\n",
    "        # Get last start/end date\n",
    "        for line in lines:\n",
    "            state = line.strip().split(\";\")\n",
    "            if state[0] in ['STA', 'END']:\n",
    "                break\n",
    "\n",
    "            time = float( state[1] )\n",
    "            time_nice = datetime.datetime.fromtimestamp(time).strftime(\"%H:%M:%S\")\n",
    "\n",
    "        return (state[0], time, time_nice)\n",
    "\n",
    "    def stats(self):\n",
    "        \n",
    "        def duration(seconds):\n",
    "            return {\n",
    "                'days': int( seconds // (60*60*24) ),\n",
    "                'hours': int( ( seconds % (60*60*24) ) // (60*60) ),\n",
    "                'minutes': int( ( seconds % (60*60) ) // (60) ),\n",
    "                'seconds': int( seconds % (60*60) ),\n",
    "            }\n",
    "\n",
    "        self.rate = int(total_seconds / count)\n",
    "        self.remaining_seconds = ( 9000 - count ) * self.rate\n",
    "        self.remaining_time = duration(self.remaining_seconds)\n",
    "        self.elapsed_seconds = []\n",
    "       \n",
    "\n",
    "        return {\n",
    "            'total_seconds': duration(total_seconds),\n",
    "            'time_pretty': time_nice,\n",
    "        }\n",
    "    \n",
    "    def __str__(self):\n",
    "        return str(self.count())\n"
   ]
  },
  {
   "cell_type": "code",
   "execution_count": 258,
   "metadata": {
    "collapsed": true
   },
   "outputs": [],
   "source": [
    "pc = PuzzleCounter()"
   ]
  },
  {
   "cell_type": "code",
   "execution_count": 259,
   "metadata": {},
   "outputs": [
    {
     "name": "stdout",
     "output_type": "stream",
     "text": [
      "ERROR: unsupported operand type(s) for -: 'int' and 'str'\n",
      "LINE: 3631\n",
      "VALUE: END;1588337226\n",
      "\n"
     ]
    },
    {
     "data": {
      "text/plain": [
       "[{'START': '2020-01-19 16:00:39',\n",
       "  'PIECES': 49,\n",
       "  'END': '2020-01-19 16:57:05',\n",
       "  'DURATION': 3386},\n",
       " {'START': '2020-01-19 17:55:08',\n",
       "  'PIECES': 20,\n",
       "  'END': '2020-01-19 18:18:03',\n",
       "  'DURATION': 1375},\n",
       " {'START': '2020-01-19 18:20:24',\n",
       "  'PIECES': 56,\n",
       "  'END': '2020-01-19 19:46:01',\n",
       "  'DURATION': 5137},\n",
       " {'START': '2020-01-21 17:27:52',\n",
       "  'PIECES': 3,\n",
       "  'END': '2020-01-21 18:13:59',\n",
       "  'DURATION': 2767},\n",
       " {'START': '2020-01-22 19:58:58',\n",
       "  'PIECES': 0,\n",
       "  'END': '2020-01-22 21:25:03',\n",
       "  'DURATION': 5165},\n",
       " {'START': '2020-01-22 21:36:34',\n",
       "  'PIECES': 18,\n",
       "  'END': '2020-01-22 22:32:13',\n",
       "  'DURATION': 3339},\n",
       " {'START': '2020-01-23 21:13:00',\n",
       "  'PIECES': 4,\n",
       "  'END': '2020-01-23 22:28:05',\n",
       "  'DURATION': 4505},\n",
       " {'START': '2020-02-02 18:21:39',\n",
       "  'PIECES': 102,\n",
       "  'END': '2020-02-02 21:23:23',\n",
       "  'DURATION': 10904},\n",
       " {'START': '2020-02-03 19:54:45',\n",
       "  'PIECES': 47,\n",
       "  'END': '2020-02-03 21:23:10',\n",
       "  'DURATION': 5305},\n",
       " {'START': '2020-02-03 21:52:46',\n",
       "  'PIECES': 53,\n",
       "  'END': '2020-02-03 23:17:13',\n",
       "  'DURATION': 5067},\n",
       " {'START': '2020-02-04 16:08:53',\n",
       "  'PIECES': 4,\n",
       "  'END': '2020-02-04 16:34:13',\n",
       "  'DURATION': 1520},\n",
       " {'START': '2020-02-07 18:01:40',\n",
       "  'PIECES': 57,\n",
       "  'END': '2020-02-07 18:39:59',\n",
       "  'DURATION': 2299},\n",
       " {'START': '2020-02-07 19:11:48',\n",
       "  'PIECES': 52,\n",
       "  'END': '2020-02-07 20:04:58',\n",
       "  'DURATION': 3190},\n",
       " {'START': '2020-02-08 11:04:57',\n",
       "  'PIECES': 4,\n",
       "  'END': '2020-02-08 11:09:36',\n",
       "  'DURATION': 279},\n",
       " {'START': '2020-02-08 11:12:10',\n",
       "  'PIECES': 6,\n",
       "  'END': '2020-02-08 11:23:37',\n",
       "  'DURATION': 687},\n",
       " {'START': '2020-02-08 11:25:17',\n",
       "  'PIECES': 19,\n",
       "  'END': '2020-02-08 11:49:27',\n",
       "  'DURATION': 1450},\n",
       " {'START': '2020-02-08 12:08:13',\n",
       "  'PIECES': 26,\n",
       "  'END': '2020-02-08 12:41:10',\n",
       "  'DURATION': 1977},\n",
       " {'START': '2020-02-08 14:47:14',\n",
       "  'PIECES': 28,\n",
       "  'END': '2020-02-08 15:25:16',\n",
       "  'DURATION': 2282},\n",
       " {'START': '2020-02-08 15:57:48',\n",
       "  'PIECES': 9,\n",
       "  'END': '2020-02-08 16:15:15',\n",
       "  'DURATION': 1047},\n",
       " {'START': '2020-02-08 22:43:37',\n",
       "  'PIECES': 58,\n",
       "  'END': '2020-02-08 23:55:07',\n",
       "  'DURATION': 4290},\n",
       " {'START': '2020-02-09 00:06:33',\n",
       "  'PIECES': 49,\n",
       "  'END': '2020-02-09 00:55:21',\n",
       "  'DURATION': 2928},\n",
       " {'START': '2020-02-09 11:37:38',\n",
       "  'PIECES': 1,\n",
       "  'END': '2020-02-09 11:38:22',\n",
       "  'DURATION': 44},\n",
       " {'START': '2020-02-09 11:41:21',\n",
       "  'PIECES': 5,\n",
       "  'END': '2020-02-09 12:04:07',\n",
       "  'DURATION': 1366},\n",
       " {'START': '2020-02-09 12:05:21',\n",
       "  'PIECES': 32,\n",
       "  'END': '2020-02-09 12:44:07',\n",
       "  'DURATION': 2326},\n",
       " {'START': '2020-02-09 21:30:14',\n",
       "  'PIECES': 3,\n",
       "  'END': '2020-02-09 21:42:19',\n",
       "  'DURATION': 725},\n",
       " {'START': '2020-02-09 21:54:30',\n",
       "  'PIECES': 3,\n",
       "  'END': '2020-02-09 22:05:52',\n",
       "  'DURATION': 682},\n",
       " {'START': '2020-02-09 22:11:17',\n",
       "  'PIECES': 2,\n",
       "  'END': '2020-02-09 22:23:30',\n",
       "  'DURATION': 733},\n",
       " {'START': '2020-02-09 22:42:13',\n",
       "  'PIECES': 8,\n",
       "  'END': '2020-02-09 22:53:54',\n",
       "  'DURATION': 701},\n",
       " {'START': '2020-02-09 22:57:57',\n",
       "  'PIECES': 0,\n",
       "  'END': '2020-02-09 22:59:11',\n",
       "  'DURATION': 74},\n",
       " {'START': '2020-02-09 22:59:13',\n",
       "  'PIECES': 1,\n",
       "  'END': '2020-02-09 22:59:18',\n",
       "  'DURATION': 5},\n",
       " {'START': '2020-02-10 21:56:29',\n",
       "  'PIECES': 7,\n",
       "  'END': '2020-02-10 22:07:14',\n",
       "  'DURATION': 645},\n",
       " {'START': '2020-02-10 22:23:57',\n",
       "  'PIECES': 3,\n",
       "  'END': '2020-02-10 22:33:46',\n",
       "  'DURATION': 589},\n",
       " {'START': '2020-02-10 22:38:42',\n",
       "  'PIECES': 4,\n",
       "  'END': '2020-02-10 22:52:10',\n",
       "  'DURATION': 808},\n",
       " {'START': '2020-02-10 22:55:59',\n",
       "  'PIECES': 4,\n",
       "  'END': '2020-02-10 23:03:29',\n",
       "  'DURATION': 450},\n",
       " {'START': '2020-02-10 23:05:05',\n",
       "  'PIECES': 9,\n",
       "  'END': '2020-02-10 23:22:25',\n",
       "  'DURATION': 1040},\n",
       " {'START': '2020-02-10 23:23:41',\n",
       "  'PIECES': 9,\n",
       "  'END': '2020-02-10 23:30:17',\n",
       "  'DURATION': 396},\n",
       " {'START': '2020-02-10 23:31:38',\n",
       "  'PIECES': 3,\n",
       "  'END': '2020-02-10 23:39:41',\n",
       "  'DURATION': 483},\n",
       " {'START': '2020-02-10 23:49:53',\n",
       "  'PIECES': 3,\n",
       "  'END': '2020-02-10 23:58:02',\n",
       "  'DURATION': 489},\n",
       " {'START': '2020-02-15 14:19:55',\n",
       "  'PIECES': 27,\n",
       "  'END': '2020-02-15 15:18:00',\n",
       "  'DURATION': 3485},\n",
       " {'START': '2020-02-15 15:37:29',\n",
       "  'PIECES': 32,\n",
       "  'END': '2020-02-15 16:16:06',\n",
       "  'DURATION': 2317},\n",
       " {'START': '2020-02-16 12:05:04',\n",
       "  'PIECES': 10,\n",
       "  'END': '2020-02-16 12:23:41',\n",
       "  'DURATION': 1117},\n",
       " {'START': '2020-02-16 12:30:53',\n",
       "  'PIECES': 3,\n",
       "  'END': '2020-02-16 12:39:07',\n",
       "  'DURATION': 494},\n",
       " {'START': '2020-02-16 16:53:48',\n",
       "  'PIECES': 9,\n",
       "  'END': '2020-02-16 17:19:10',\n",
       "  'DURATION': 1522},\n",
       " {'START': '2020-02-16 18:03:09',\n",
       "  'PIECES': 6,\n",
       "  'END': '2020-02-16 18:23:38',\n",
       "  'DURATION': 1229},\n",
       " {'START': '2020-02-16 20:15:37',\n",
       "  'PIECES': 4,\n",
       "  'END': '2020-02-16 20:27:24',\n",
       "  'DURATION': 707},\n",
       " {'START': '2020-02-16 20:58:16',\n",
       "  'PIECES': 19,\n",
       "  'END': '2020-02-16 21:41:34',\n",
       "  'DURATION': 2598},\n",
       " {'START': '2020-02-18 19:36:17',\n",
       "  'PIECES': 13,\n",
       "  'END': '2020-02-18 19:48:00',\n",
       "  'DURATION': 703},\n",
       " {'START': '2020-02-18 19:53:43',\n",
       "  'PIECES': 4,\n",
       "  'END': '2020-02-18 20:01:58',\n",
       "  'DURATION': 495},\n",
       " {'START': '2020-02-18 20:05:41',\n",
       "  'PIECES': 1,\n",
       "  'END': '2020-02-18 20:07:56',\n",
       "  'DURATION': 135},\n",
       " {'START': '2020-02-18 22:14:30',\n",
       "  'PIECES': 17,\n",
       "  'END': '2020-02-18 22:54:38',\n",
       "  'DURATION': 2408},\n",
       " {'START': '2020-02-18 23:07:00',\n",
       "  'PIECES': 3,\n",
       "  'END': '2020-02-18 23:09:17',\n",
       "  'DURATION': 137},\n",
       " {'START': '2020-02-18 23:11:27',\n",
       "  'PIECES': 3,\n",
       "  'END': '2020-02-18 23:15:18',\n",
       "  'DURATION': 231},\n",
       " {'START': '2020-02-18 23:17:20',\n",
       "  'PIECES': 2,\n",
       "  'END': '2020-02-18 23:31:41',\n",
       "  'DURATION': 861},\n",
       " {'START': '2020-02-18 23:40:31',\n",
       "  'PIECES': 5,\n",
       "  'END': '2020-02-18 23:49:59',\n",
       "  'DURATION': 568},\n",
       " {'START': '2020-02-20 21:15:29',\n",
       "  'PIECES': 20,\n",
       "  'END': '2020-02-20 22:13:03',\n",
       "  'DURATION': 3454},\n",
       " {'START': '2020-02-23 20:33:59',\n",
       "  'PIECES': 16,\n",
       "  'END': '2020-02-23 21:15:37',\n",
       "  'DURATION': 2498},\n",
       " {'START': '2020-03-04 18:59:25',\n",
       "  'PIECES': 41,\n",
       "  'END': '2020-03-04 19:51:29',\n",
       "  'DURATION': 3124},\n",
       " {'START': '2020-03-08 21:34:02',\n",
       "  'PIECES': 28,\n",
       "  'END': '2020-03-08 22:38:46',\n",
       "  'DURATION': 3884},\n",
       " {'START': '2020-03-09 20:47:21',\n",
       "  'PIECES': 10,\n",
       "  'END': '2020-03-09 21:04:58',\n",
       "  'DURATION': 1057},\n",
       " {'START': '2020-03-16 21:35:40',\n",
       "  'PIECES': 68,\n",
       "  'END': '2020-03-16 22:02:55',\n",
       "  'DURATION': 1635},\n",
       " {'START': '2020-03-17 19:26:44',\n",
       "  'PIECES': 35,\n",
       "  'END': '2020-03-17 20:23:19',\n",
       "  'DURATION': 3395},\n",
       " {'START': '2020-03-21 12:38:49',\n",
       "  'PIECES': 5,\n",
       "  'END': '2020-03-21 13:10:31',\n",
       "  'DURATION': 1902},\n",
       " {'START': '2020-03-21 13:46:07',\n",
       "  'PIECES': 6,\n",
       "  'END': '2020-03-21 14:05:47',\n",
       "  'DURATION': 1180},\n",
       " {'START': '2020-03-21 14:33:05',\n",
       "  'PIECES': 29,\n",
       "  'END': '2020-03-21 15:27:17',\n",
       "  'DURATION': 3252},\n",
       " {'START': '2020-03-21 17:17:10',\n",
       "  'PIECES': 95,\n",
       "  'END': '2020-03-21 19:42:57',\n",
       "  'DURATION': 8747},\n",
       " {'START': '2020-03-24 20:10:03',\n",
       "  'PIECES': 133,\n",
       "  'END': '2020-03-24 22:43:31',\n",
       "  'DURATION': 9208},\n",
       " {'START': '2020-03-25 22:19:40',\n",
       "  'PIECES': 7,\n",
       "  'END': '2020-03-25 22:47:51',\n",
       "  'DURATION': 1691},\n",
       " {'START': '2020-03-27 19:01:15',\n",
       "  'PIECES': 25,\n",
       "  'END': '2020-03-27 19:53:16',\n",
       "  'DURATION': 3121},\n",
       " {'START': '2020-03-27 20:06:14',\n",
       "  'PIECES': 35,\n",
       "  'END': '2020-03-27 21:13:12',\n",
       "  'DURATION': 4018},\n",
       " {'START': '2020-03-28 08:43:25',\n",
       "  'PIECES': 54,\n",
       "  'END': '2020-03-28 10:10:17',\n",
       "  'DURATION': 5212},\n",
       " {'START': '2020-03-28 21:22:29',\n",
       "  'PIECES': 3,\n",
       "  'END': '2020-03-28 21:29:19',\n",
       "  'DURATION': 410},\n",
       " {'START': '2020-03-28 21:35:57',\n",
       "  'PIECES': 10,\n",
       "  'END': '2020-03-28 21:54:07',\n",
       "  'DURATION': 1090},\n",
       " {'START': '2020-03-28 21:55:52',\n",
       "  'PIECES': 2,\n",
       "  'END': '2020-03-28 22:04:52',\n",
       "  'DURATION': 540},\n",
       " {'START': '2020-04-03 19:28:21',\n",
       "  'PIECES': 4,\n",
       "  'END': '2020-04-03 19:28:34',\n",
       "  'DURATION': 13},\n",
       " {'START': '2020-04-03 21:36:31',\n",
       "  'PIECES': 0,\n",
       "  'END': '2020-04-03 21:38:19',\n",
       "  'DURATION': 108},\n",
       " {'START': '2020-04-04 15:46:12',\n",
       "  'PIECES': 18,\n",
       "  'END': '2020-04-04 17:45:48',\n",
       "  'DURATION': 7176},\n",
       " {'START': '2020-04-04 17:52:02',\n",
       "  'PIECES': 23,\n",
       "  'END': '2020-04-04 18:37:05',\n",
       "  'DURATION': 2703},\n",
       " {'START': '2020-04-04 21:36:06',\n",
       "  'PIECES': 21,\n",
       "  'END': '2020-04-04 22:01:19',\n",
       "  'DURATION': 1513},\n",
       " {'START': '2020-04-05 20:34:09',\n",
       "  'PIECES': 8,\n",
       "  'END': '2020-04-05 20:44:26',\n",
       "  'DURATION': 617},\n",
       " {'START': '2020-04-05 21:59:03',\n",
       "  'PIECES': 12,\n",
       "  'END': '2020-04-05 22:35:44',\n",
       "  'DURATION': 2201},\n",
       " {'START': '2020-04-06 17:40:46',\n",
       "  'PIECES': 4,\n",
       "  'END': '2020-04-06 17:51:24',\n",
       "  'DURATION': 638},\n",
       " {'START': '2020-04-06 18:03:45',\n",
       "  'PIECES': 6,\n",
       "  'END': '2020-04-06 18:15:37',\n",
       "  'DURATION': 712},\n",
       " {'START': '2020-04-06 18:26:39',\n",
       "  'PIECES': 3,\n",
       "  'END': '2020-04-06 18:36:45',\n",
       "  'DURATION': 606},\n",
       " {'START': '2020-04-06 23:17:15',\n",
       "  'PIECES': 3,\n",
       "  'END': '2020-04-06 23:40:24',\n",
       "  'DURATION': 1389},\n",
       " {'START': '2020-04-09 08:40:48',\n",
       "  'PIECES': 9,\n",
       "  'END': '2020-04-09 08:58:41',\n",
       "  'DURATION': 1073},\n",
       " {'START': '2020-04-09 21:10:41',\n",
       "  'PIECES': 56,\n",
       "  'END': '2020-04-09 23:07:50',\n",
       "  'DURATION': 7029},\n",
       " {'START': '2020-04-12 10:36:32',\n",
       "  'PIECES': 9,\n",
       "  'END': '2020-04-12 10:47:57',\n",
       "  'DURATION': 685},\n",
       " {'START': '2020-04-12 13:32:27',\n",
       "  'PIECES': 22,\n",
       "  'END': '2020-04-12 14:02:26',\n",
       "  'DURATION': 1799},\n",
       " {'START': '2020-04-12 17:23:36',\n",
       "  'PIECES': 8,\n",
       "  'END': '2020-04-12 17:44:07',\n",
       "  'DURATION': 1231},\n",
       " {'START': '2020-04-12 22:16:00',\n",
       "  'PIECES': 6,\n",
       "  'END': '2020-04-12 22:19:56',\n",
       "  'DURATION': 236},\n",
       " {'START': '2020-04-13 11:04:32',\n",
       "  'PIECES': 45,\n",
       "  'END': '2020-04-13 11:56:11',\n",
       "  'DURATION': 3099},\n",
       " {'START': '2020-04-13 13:14:06',\n",
       "  'PIECES': 25,\n",
       "  'END': '2020-04-13 14:54:52',\n",
       "  'DURATION': 6046},\n",
       " {'START': '2020-04-13 20:12:25',\n",
       "  'PIECES': 24,\n",
       "  'END': '2020-04-13 21:25:28',\n",
       "  'DURATION': 4383},\n",
       " {'START': '2020-04-15 15:31:35',\n",
       "  'PIECES': 0,\n",
       "  'END': '2020-04-15 15:31:39',\n",
       "  'DURATION': 4},\n",
       " {'START': '2020-04-15 20:45:28',\n",
       "  'PIECES': 36,\n",
       "  'END': '2020-04-15 21:52:27',\n",
       "  'DURATION': 4019},\n",
       " {'START': '2020-04-16 22:20:31',\n",
       "  'PIECES': 15,\n",
       "  'END': '2020-04-16 22:57:03',\n",
       "  'DURATION': 2192},\n",
       " {'START': '2020-04-17 21:17:06',\n",
       "  'PIECES': 11,\n",
       "  'END': '2020-04-17 22:07:09',\n",
       "  'DURATION': 3003},\n",
       " {'START': '2020-04-17 22:16:04',\n",
       "  'PIECES': 4,\n",
       "  'END': '2020-04-17 22:36:43',\n",
       "  'DURATION': 1239},\n",
       " {'START': '2020-04-17 22:37:14',\n",
       "  'PIECES': 1,\n",
       "  'END': '2020-04-17 22:37:17',\n",
       "  'DURATION': 3},\n",
       " {'START': '2020-04-18 09:49:55',\n",
       "  'PIECES': 86,\n",
       "  'END': '2020-04-18 11:19:32',\n",
       "  'DURATION': 5377},\n",
       " {'START': '2020-04-18 18:00:18',\n",
       "  'PIECES': 100,\n",
       "  'END': '2020-04-18 19:39:44',\n",
       "  'DURATION': 5966},\n",
       " {'START': '2020-04-18 22:18:18',\n",
       "  'PIECES': 28,\n",
       "  'END': '2020-04-18 23:17:18',\n",
       "  'DURATION': 3540},\n",
       " {'START': '2020-04-19 10:51:53',\n",
       "  'PIECES': 100,\n",
       "  'END': '2020-04-19 12:49:08',\n",
       "  'DURATION': 7035},\n",
       " {'START': '2020-04-19 18:22:14',\n",
       "  'PIECES': 42,\n",
       "  'END': '2020-04-19 19:01:32',\n",
       "  'DURATION': 2358},\n",
       " {'START': '2020-04-19 21:18:09',\n",
       "  'PIECES': 41,\n",
       "  'END': '2020-04-19 22:19:54',\n",
       "  'DURATION': 3705},\n",
       " {'START': '2020-04-20 12:16:12',\n",
       "  'PIECES': 3,\n",
       "  'END': '2020-04-20 12:30:57',\n",
       "  'DURATION': 885},\n",
       " {'START': '2020-04-20 19:53:26',\n",
       "  'PIECES': 6,\n",
       "  'END': '2020-04-20 20:14:40',\n",
       "  'DURATION': 1274},\n",
       " {'START': '2020-04-20 22:10:28',\n",
       "  'PIECES': 15,\n",
       "  'END': '2020-04-20 22:57:32',\n",
       "  'DURATION': 2824},\n",
       " {'START': '2020-04-21 12:41:18',\n",
       "  'PIECES': 15,\n",
       "  'END': '2020-04-21 13:13:48',\n",
       "  'DURATION': 1950},\n",
       " {'START': '2020-04-21 21:29:00',\n",
       "  'PIECES': 50,\n",
       "  'END': '2020-04-21 22:28:11',\n",
       "  'DURATION': 3551},\n",
       " {'START': '2020-04-22 19:12:10',\n",
       "  'PIECES': 33,\n",
       "  'END': '2020-04-22 20:03:16',\n",
       "  'DURATION': 3066},\n",
       " {'START': '2020-04-22 20:21:47',\n",
       "  'PIECES': 67,\n",
       "  'END': '2020-04-22 21:36:15',\n",
       "  'DURATION': 4468},\n",
       " {'START': '2020-04-23 11:39:52',\n",
       "  'PIECES': 31,\n",
       "  'END': '2020-04-23 13:53:03',\n",
       "  'DURATION': 7991},\n",
       " {'START': '2020-04-23 20:33:09',\n",
       "  'PIECES': 22,\n",
       "  'END': '2020-04-23 21:26:53',\n",
       "  'DURATION': 3224},\n",
       " {'START': '2020-04-23 22:27:29',\n",
       "  'PIECES': 47,\n",
       "  'END': '2020-04-23 23:12:44',\n",
       "  'DURATION': 2715},\n",
       " {'START': '2020-04-24 13:27:15',\n",
       "  'PIECES': 4,\n",
       "  'END': '2020-04-24 13:38:30',\n",
       "  'DURATION': 675},\n",
       " {'START': '2020-04-25 08:39:19',\n",
       "  'PIECES': 32,\n",
       "  'END': '2020-04-25 10:08:50',\n",
       "  'DURATION': 5371},\n",
       " {'START': '2020-04-25 11:25:25',\n",
       "  'PIECES': 13,\n",
       "  'END': '2020-04-25 12:22:38',\n",
       "  'DURATION': 3433},\n",
       " {'START': '2020-04-25 14:05:20',\n",
       "  'PIECES': 15,\n",
       "  'END': '2020-04-25 14:37:11',\n",
       "  'DURATION': 1911},\n",
       " {'START': '2020-04-25 15:22:40',\n",
       "  'PIECES': 24,\n",
       "  'END': '2020-04-25 16:18:16',\n",
       "  'DURATION': 3336},\n",
       " {'START': '2020-04-25 16:59:01',\n",
       "  'PIECES': 48,\n",
       "  'END': '2020-04-25 18:26:02',\n",
       "  'DURATION': 5221},\n",
       " {'START': '2020-04-25 20:11:27',\n",
       "  'PIECES': 100,\n",
       "  'END': '2020-04-26 00:14:13',\n",
       "  'DURATION': 14566},\n",
       " {'START': '2020-04-26 10:21:12',\n",
       "  'PIECES': 5,\n",
       "  'END': '2020-04-26 10:24:18',\n",
       "  'DURATION': 186},\n",
       " {'START': '2020-04-26 11:58:55',\n",
       "  'PIECES': 22,\n",
       "  'END': '2020-04-26 13:40:46',\n",
       "  'DURATION': 6111},\n",
       " {'START': '2020-04-26 16:43:31',\n",
       "  'PIECES': 50,\n",
       "  'END': '2020-04-26 18:31:32',\n",
       "  'DURATION': 6481},\n",
       " {'START': '2020-04-28 21:39:39',\n",
       "  'PIECES': 25,\n",
       "  'END': '2020-04-28 22:18:46',\n",
       "  'DURATION': 2347},\n",
       " {'START': '2020-04-29 07:27:25',\n",
       "  'PIECES': 7,\n",
       "  'END': '2020-04-29 07:45:43',\n",
       "  'DURATION': 1098},\n",
       " {'START': '2020-04-29 11:15:33',\n",
       "  'PIECES': 19,\n",
       "  'END': '2020-04-29 12:20:07',\n",
       "  'DURATION': 3874},\n",
       " {'START': '2020-04-29 15:30:51',\n",
       "  'PIECES': 40,\n",
       "  'END': '2020-04-29 17:08:33',\n",
       "  'DURATION': 5862},\n",
       " {'START': '2020-04-29 21:50:11',\n",
       "  'PIECES': 45,\n",
       "  'END': '2020-04-29 23:43:00',\n",
       "  'DURATION': 6769},\n",
       " {'START': '2020-04-30 12:13:14',\n",
       "  'PIECES': 28,\n",
       "  'END': '2020-04-30 13:10:24',\n",
       "  'DURATION': 3430},\n",
       " {'START': '2020-04-30 14:23:18',\n",
       "  'PIECES': 16,\n",
       "  'END': '2020-04-30 14:53:15',\n",
       "  'DURATION': 1797},\n",
       " {'START': '2020-04-30 19:38:17',\n",
       "  'PIECES': 66,\n",
       "  'END': '2020-04-30 21:41:23',\n",
       "  'DURATION': 7386},\n",
       " {'START': '2020-04-30 22:22:58',\n",
       "  'PIECES': 15,\n",
       "  'END': '2020-04-30 22:52:22',\n",
       "  'DURATION': 1764},\n",
       " {'START': '2020-05-01 10:13:37',\n",
       "  'PIECES': 95,\n",
       "  'END': '2020-05-01 12:31:12',\n",
       "  'DURATION': 8255},\n",
       " {'START': '2020-05-01 12:51:25',\n",
       "  'PIECES': 88,\n",
       "  'END': 1588337226,\n",
       "  'DURATION': 4479},\n",
       " {'START': '2020-05-01 17:31:31',\n",
       "  'PIECES': 9,\n",
       "  'END': '2020-05-01 17:35:23',\n",
       "  'DURATION': 232},\n",
       " {'START': '2020-05-01 18:28:45',\n",
       "  'PIECES': 7,\n",
       "  'END': '2020-05-01 18:32:48',\n",
       "  'DURATION': 243},\n",
       " {'START': '2020-05-01 22:22:05',\n",
       "  'PIECES': 51,\n",
       "  'END': '2020-05-01 23:33:22',\n",
       "  'DURATION': 4277}]"
      ]
     },
     "execution_count": 259,
     "metadata": {},
     "output_type": "execute_result"
    }
   ],
   "source": [
    "pc.sessions()"
   ]
  },
  {
   "cell_type": "code",
   "execution_count": 182,
   "metadata": {},
   "outputs": [
    {
     "ename": "NameError",
     "evalue": "name 'total_seconds' is not defined",
     "output_type": "error",
     "traceback": [
      "\u001b[0;31m---------------------------------------------------------------------------\u001b[0m",
      "\u001b[0;31mNameError\u001b[0m                                 Traceback (most recent call last)",
      "\u001b[0;32m<ipython-input-182-a11aabf10242>\u001b[0m in \u001b[0;36m<module>\u001b[0;34m\u001b[0m\n\u001b[0;32m----> 1\u001b[0;31m \u001b[0mpc\u001b[0m\u001b[0;34m.\u001b[0m\u001b[0mstats\u001b[0m\u001b[0;34m(\u001b[0m\u001b[0;34m)\u001b[0m\u001b[0;34m\u001b[0m\u001b[0;34m\u001b[0m\u001b[0m\n\u001b[0m",
      "\u001b[0;32m<ipython-input-169-e89166702bed>\u001b[0m in \u001b[0;36mstats\u001b[0;34m(self)\u001b[0m\n\u001b[1;32m    107\u001b[0m             }\n\u001b[1;32m    108\u001b[0m \u001b[0;34m\u001b[0m\u001b[0m\n\u001b[0;32m--> 109\u001b[0;31m         \u001b[0mself\u001b[0m\u001b[0;34m.\u001b[0m\u001b[0mrate\u001b[0m \u001b[0;34m=\u001b[0m \u001b[0mint\u001b[0m\u001b[0;34m(\u001b[0m\u001b[0mtotal_seconds\u001b[0m \u001b[0;34m/\u001b[0m \u001b[0mcount\u001b[0m\u001b[0;34m)\u001b[0m\u001b[0;34m\u001b[0m\u001b[0;34m\u001b[0m\u001b[0m\n\u001b[0m\u001b[1;32m    110\u001b[0m         \u001b[0mself\u001b[0m\u001b[0;34m.\u001b[0m\u001b[0mremaining_seconds\u001b[0m \u001b[0;34m=\u001b[0m \u001b[0;34m(\u001b[0m \u001b[0;36m9000\u001b[0m \u001b[0;34m-\u001b[0m \u001b[0mcount\u001b[0m \u001b[0;34m)\u001b[0m \u001b[0;34m*\u001b[0m \u001b[0mself\u001b[0m\u001b[0;34m.\u001b[0m\u001b[0mrate\u001b[0m\u001b[0;34m\u001b[0m\u001b[0;34m\u001b[0m\u001b[0m\n\u001b[1;32m    111\u001b[0m         \u001b[0mself\u001b[0m\u001b[0;34m.\u001b[0m\u001b[0mremaining_time\u001b[0m \u001b[0;34m=\u001b[0m \u001b[0mduration\u001b[0m\u001b[0;34m(\u001b[0m\u001b[0mself\u001b[0m\u001b[0;34m.\u001b[0m\u001b[0mremaining_seconds\u001b[0m\u001b[0;34m)\u001b[0m\u001b[0;34m\u001b[0m\u001b[0;34m\u001b[0m\u001b[0m\n",
      "\u001b[0;31mNameError\u001b[0m: name 'total_seconds' is not defined"
     ]
    }
   ],
   "source": [
    "pc.stats()"
   ]
  },
  {
   "cell_type": "code",
   "execution_count": 251,
   "metadata": {
    "collapsed": true
   },
   "outputs": [],
   "source": [
    "counter_file = \"counter_backup.txt\"\n",
    "\n",
    "class Puzzle(object):\n",
    "    \n",
    "    # Total count\n",
    "    # This session\n",
    "    # Time per piece\n",
    "    # Time spent\n",
    "    \n",
    "    \n",
    "    def __init__(self):\n",
    "        self.df = pd.read_csv('counter.txt', sep=\";\", header=0, names=[\"ACTION\",\"TIMESTAMP\"])\n",
    "        \n",
    "\n",
    "    def get_sessions(self):\n",
    "\n",
    "        sessions = []\n",
    "\n",
    "        for n, line in enumerate(self.df):\n",
    "\n",
    "            try:\n",
    "                action, timestamp = line.split(';')\n",
    "\n",
    "                if action == \"STA\":\n",
    "                    session = {\n",
    "                        \"START\": round(float(timestamp.strip())),\n",
    "                        \"PIECES\": 0,\n",
    "                    }\n",
    "                elif action == \"ADD\":\n",
    "                    session['PIECES'] += 1\n",
    "                elif action == \"END\":\n",
    "                    session[\"END\"] = round(float(timestamp.strip()))\n",
    "                    session[\"DURATION\"] = session[\"END\"] - session[\"START\"]\n",
    "                    session[\"START\"] = datetime.datetime.fromtimestamp(session[\"START\"]).strftime(\"%Y-%m-%d %H:%M:%S\")\n",
    "                    session[\"END\"] = datetime.datetime.fromtimestamp(session[\"END\"]).strftime(\"%Y-%m-%d %H:%M:%S\")\n",
    "                    sessions += [session]\n",
    "            except Exception as e:\n",
    "                error = \"ERROR: {}\\nLINE: {}\\nVALUE: {}\".format(e, n, line)\n",
    "                self.errors += [error]\n",
    "                print(error)\n",
    "\n",
    "        return sessions\n",
    "    \n",
    "    @privatemethod           \n",
    "    def __append(action):\n",
    "        \n",
    "        if action not in ('STA','END','ADD'):\n",
    "            print(\"ERROR! Wrong action:\", action)\n",
    "            return False # Action is not valid\n",
    "        \n",
    "        with open('/home/vojtech/web.kotek.co/myapp/counter.txt', 'a', encoding=\"utf-8-sig\") as f:\n",
    "            f.write('\\n{};{}')\n",
    "        pass            \n",
    "\n",
    "    @staticmethod     \n",
    "    def end():\n",
    "        \n",
    "        if action not in ('STA','END','ADD'):\n",
    "            print(\"ERROR! Wrong action:\", action)\n",
    "            return False # Action is not valid\n",
    "        \n",
    "        with open('/home/vojtech/web.kotek.co/myapp/counter.txt', 'a', encoding=\"utf-8-sig\") as f:\n",
    "            f.write('\\n{};{}')\n",
    "        pass            \n",
    "        \n",
    "        \n",
    "    \n",
    "    def start():\n",
    "        \n",
    "        \n",
    "    def add():\n",
    "        \n",
    "        \n",
    "    def __str__(self):\n",
    "        return \"X\"\n",
    "    \n",
    "    def __repr__(self):\n",
    "        \n",
    "        return \"x\"\n",
    "        \n",
    "\n",
    "p = Puzzle()"
   ]
  },
  {
   "cell_type": "code",
   "execution_count": 254,
   "metadata": {},
   "outputs": [
    {
     "ename": "AttributeError",
     "evalue": "type object 'Puzzle' has no attribute 'append'",
     "output_type": "error",
     "traceback": [
      "\u001b[0;31m---------------------------------------------------------------------------\u001b[0m",
      "\u001b[0;31mAttributeError\u001b[0m                            Traceback (most recent call last)",
      "\u001b[0;32m<ipython-input-254-53481ce8b2cc>\u001b[0m in \u001b[0;36m<module>\u001b[0;34m\u001b[0m\n\u001b[0;32m----> 1\u001b[0;31m \u001b[0mPuzzle\u001b[0m\u001b[0;34m.\u001b[0m\u001b[0mappend\u001b[0m\u001b[0;34m(\u001b[0m\u001b[0;34m)\u001b[0m\u001b[0;34m\u001b[0m\u001b[0;34m\u001b[0m\u001b[0m\n\u001b[0m",
      "\u001b[0;31mAttributeError\u001b[0m: type object 'Puzzle' has no attribute 'append'"
     ]
    }
   ],
   "source": [
    "Puzzle.append()"
   ]
  },
  {
   "cell_type": "code",
   "execution_count": 245,
   "metadata": {
    "collapsed": true
   },
   "outputs": [],
   "source": [
    "for line in p.df.iterrows():\n",
    "    pass"
   ]
  },
  {
   "cell_type": "code",
   "execution_count": 242,
   "metadata": {},
   "outputs": [
    {
     "ename": "AttributeError",
     "evalue": "'DataFrame' object has no attribute 'rows'",
     "output_type": "error",
     "traceback": [
      "\u001b[0;31m---------------------------------------------------------------------------\u001b[0m",
      "\u001b[0;31mAttributeError\u001b[0m                            Traceback (most recent call last)",
      "\u001b[0;32m<ipython-input-242-bab2f393c545>\u001b[0m in \u001b[0;36m<module>\u001b[0;34m\u001b[0m\n\u001b[0;32m----> 1\u001b[0;31m \u001b[0mdf\u001b[0m\u001b[0;34m.\u001b[0m\u001b[0mrows\u001b[0m\u001b[0;34m(\u001b[0m\u001b[0;34m)\u001b[0m\u001b[0;34m\u001b[0m\u001b[0;34m\u001b[0m\u001b[0m\n\u001b[0m",
      "\u001b[0;32m~/ipython/venv37/lib/python3.7/site-packages/pandas/core/generic.py\u001b[0m in \u001b[0;36m__getattr__\u001b[0;34m(self, name)\u001b[0m\n\u001b[1;32m   5272\u001b[0m             \u001b[0;32mif\u001b[0m \u001b[0mself\u001b[0m\u001b[0;34m.\u001b[0m\u001b[0m_info_axis\u001b[0m\u001b[0;34m.\u001b[0m\u001b[0m_can_hold_identifiers_and_holds_name\u001b[0m\u001b[0;34m(\u001b[0m\u001b[0mname\u001b[0m\u001b[0;34m)\u001b[0m\u001b[0;34m:\u001b[0m\u001b[0;34m\u001b[0m\u001b[0;34m\u001b[0m\u001b[0m\n\u001b[1;32m   5273\u001b[0m                 \u001b[0;32mreturn\u001b[0m \u001b[0mself\u001b[0m\u001b[0;34m[\u001b[0m\u001b[0mname\u001b[0m\u001b[0;34m]\u001b[0m\u001b[0;34m\u001b[0m\u001b[0;34m\u001b[0m\u001b[0m\n\u001b[0;32m-> 5274\u001b[0;31m             \u001b[0;32mreturn\u001b[0m \u001b[0mobject\u001b[0m\u001b[0;34m.\u001b[0m\u001b[0m__getattribute__\u001b[0m\u001b[0;34m(\u001b[0m\u001b[0mself\u001b[0m\u001b[0;34m,\u001b[0m \u001b[0mname\u001b[0m\u001b[0;34m)\u001b[0m\u001b[0;34m\u001b[0m\u001b[0;34m\u001b[0m\u001b[0m\n\u001b[0m\u001b[1;32m   5275\u001b[0m \u001b[0;34m\u001b[0m\u001b[0m\n\u001b[1;32m   5276\u001b[0m     \u001b[0;32mdef\u001b[0m \u001b[0m__setattr__\u001b[0m\u001b[0;34m(\u001b[0m\u001b[0mself\u001b[0m\u001b[0;34m,\u001b[0m \u001b[0mname\u001b[0m\u001b[0;34m:\u001b[0m \u001b[0mstr\u001b[0m\u001b[0;34m,\u001b[0m \u001b[0mvalue\u001b[0m\u001b[0;34m)\u001b[0m \u001b[0;34m->\u001b[0m \u001b[0;32mNone\u001b[0m\u001b[0;34m:\u001b[0m\u001b[0;34m\u001b[0m\u001b[0;34m\u001b[0m\u001b[0m\n",
      "\u001b[0;31mAttributeError\u001b[0m: 'DataFrame' object has no attribute 'rows'"
     ]
    }
   ],
   "source": []
  },
  {
   "cell_type": "code",
   "execution_count": 268,
   "metadata": {},
   "outputs": [
    {
     "data": {
      "text/plain": [
       "'HELLO'"
      ]
     },
     "execution_count": 268,
     "metadata": {},
     "output_type": "execute_result"
    }
   ],
   "source": [
    "str.upper(\"hello\")"
   ]
  },
  {
   "cell_type": "code",
   "execution_count": 269,
   "metadata": {},
   "outputs": [
    {
     "data": {
      "text/plain": [
       "'HELLO'"
      ]
     },
     "execution_count": 269,
     "metadata": {},
     "output_type": "execute_result"
    }
   ],
   "source": [
    "\"Hello\".upper()"
   ]
  },
  {
   "cell_type": "code",
   "execution_count": null,
   "metadata": {
    "collapsed": true
   },
   "outputs": [],
   "source": []
  }
 ],
 "metadata": {
  "kernelspec": {
   "display_name": "venv37",
   "language": "python",
   "name": "venv37"
  },
  "language_info": {
   "codemirror_mode": {
    "name": "ipython",
    "version": 3
   },
   "file_extension": ".py",
   "mimetype": "text/x-python",
   "name": "python",
   "nbconvert_exporter": "python",
   "pygments_lexer": "ipython3",
   "version": "3.7.3"
  }
 },
 "nbformat": 4,
 "nbformat_minor": 2
}
