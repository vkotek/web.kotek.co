{
 "cells": [
  {
   "cell_type": "markdown",
   "metadata": {},
   "source": [
    "# User Controller"
   ]
  },
  {
   "cell_type": "code",
   "execution_count": 453,
   "metadata": {},
   "outputs": [
    {
     "data": {
      "text/plain": [
       "[{'email': 'kotek.vojtech@gmail.com',\n",
       "  'preferences': [1, 2, 3, 4, 5],\n",
       "  'registered': '2019-06-10T00:28:28.903682',\n",
       "  'salt': '3AKLPFsGgFjzvlDJ',\n",
       "  'token': 'b11038f3830cab4d68f9181a599a4b4f12f81553619e88d79f0faf8d',\n",
       "  'uuid': '21466d58-d268-4a42-bf6e-947853fbc1e2',\n",
       "  'verified': '2019-06-10T00:28:28.909069'},\n",
       " {'email': 'vojtech.kotek@merck.com',\n",
       "  'preferences': [1, 2, 3, 4, 5],\n",
       "  'registered': '2019-06-10T00:28:28.923401',\n",
       "  'salt': 'xkrQ7QPmdvDe7yC4',\n",
       "  'token': '6bfd91fb60d19820a51c80fcce8e41615cf5060da154d03609d882ad',\n",
       "  'uuid': '4817621b-8127-4d9b-abb7-a234c03c420f',\n",
       "  'verified': '2019-06-10T00:28:28.924419'},\n",
       " {'email': 'drahomira.platlova@merck.com',\n",
       "  'preferences': [1, 2, 3, 4, 5],\n",
       "  'registered': '2019-06-10T00:28:28.931836',\n",
       "  'salt': 'JITuzV9ay7HbBRSO',\n",
       "  'token': 'e41fa40e579e82fc8cb8e7e187543dea4ce77b4fbd3dae2b5b4e0bae',\n",
       "  'uuid': 'd3d4883e-5d9c-440c-bcc4-9c44109e54dd',\n",
       "  'verified': '2019-06-10T00:28:28.938727'},\n",
       " {'email': 'vaclav.senych@merck.com',\n",
       "  'preferences': [1, 2, 3, 4, 5],\n",
       "  'registered': '2019-06-10T00:28:28.940234',\n",
       "  'salt': 'lc4Kyg2x5UEXStRC',\n",
       "  'token': 'b79d4fcbd8dbf3bb3d203a5fa992cb785ded4d03135c117c52538665',\n",
       "  'uuid': 'aa7b2098-8717-4af1-a822-ceb3284528d4',\n",
       "  'verified': '2019-06-10T00:28:28.945100'},\n",
       " {'email': 'jakub.pospichal@merck.com',\n",
       "  'preferences': [1, 2, 3, 4, 5],\n",
       "  'registered': '2019-06-10T00:28:28.947046',\n",
       "  'salt': 'OpyyQWl87TLKqM8d',\n",
       "  'token': '86796149fcb233f3c80864cc24fa408addede78a456be54ce67ac64e',\n",
       "  'uuid': 'ae4badf1-71c8-4251-92dd-c610d7b90c39',\n",
       "  'verified': '2019-06-10T00:28:28.947902'},\n",
       " {'email': 'lukas.langer1@merck.com',\n",
       "  'preferences': [1, 2, 3, 4, 5],\n",
       "  'registered': '2019-06-10T00:28:28.954624',\n",
       "  'salt': 'zhKFGfspU0lMnNX0',\n",
       "  'token': 'c0e44705e10889d483f3e4fada3cbaa242ca4e55ba69b787ae41d780',\n",
       "  'uuid': '409f1593-5f4f-44ec-ab81-a30a92039f1c',\n",
       "  'verified': '2019-06-10T00:28:28.955992'},\n",
       " {'email': 'robert.varga@merck.com',\n",
       "  'preferences': [1, 2, 3, 4, 5],\n",
       "  'registered': '2019-06-10T00:28:28.963135',\n",
       "  'salt': '4ffW9NMhZYRIc99d',\n",
       "  'token': 'd4826cd1775ca270f94e9b48c20738d70dc293c8e5557e34a30e6774',\n",
       "  'uuid': 'a746a30a-28fe-4c2c-a4aa-2f36a22bccd6',\n",
       "  'verified': '2019-06-10T00:28:28.964470'},\n",
       " {'email': 'lusine.grigoryan@merck.com',\n",
       "  'preferences': [1, 2, 3, 4, 5],\n",
       "  'registered': '2019-06-10T00:28:28.966970',\n",
       "  'salt': 'J459ynGwbTNKsHMR',\n",
       "  'token': '5da45ecc244499cd9f76d3655f5db42671056a7ce7876484815ffa84',\n",
       "  'uuid': 'baf1da13-9ade-4abe-8115-b520cbc80eef',\n",
       "  'verified': '2019-06-10T00:28:28.972949'}]"
      ]
     },
     "execution_count": 453,
     "metadata": {},
     "output_type": "execute_result"
    }
   ],
   "source": [
    "import uuid\n",
    "import json\n",
    "import hashlib\n",
    "import random\n",
    "import requests\n",
    "\n",
    "subscribers_file = 'subscribers.json'\n",
    "\n",
    "class User(object):\n",
    "    \n",
    "    def __init__(self, uuid=None):\n",
    "        with open(subscribers_file, 'r') as f:\n",
    "            try:\n",
    "                self.users = json.load(f)\n",
    "            except:\n",
    "                self.users = []\n",
    "        if uuid:\n",
    "            return True\n",
    "                \n",
    "    def reload(self):\n",
    "        self.__init__()\n",
    "    \n",
    "    def add(self, email):\n",
    "        self.reload()\n",
    "        if self.exists(email=email):\n",
    "            return False\n",
    "        \n",
    "        salt = self.salt()\n",
    "        \n",
    "        new_user = {\n",
    "            'uuid': str(uuid.uuid4()),\n",
    "            'email': email,\n",
    "            'token': hashlib.sha224((salt + email).encode('UTF-8')).hexdigest(),\n",
    "            'verified': False,\n",
    "            'registered': datetime.now().isoformat(),\n",
    "            'preferences': [1,2,3,4,5],\n",
    "            'salt': salt,\n",
    "        }\n",
    "        \n",
    "        self.users.append(new_user)\n",
    "        self.save()\n",
    "        return new_user\n",
    "    \n",
    "    def get(self, uuid=None, email=None, token=None):\n",
    "        if not uuid and not email and not token:\n",
    "            return False\n",
    "        for user in self.users:\n",
    "            if user['uuid'] == uuid or user['email'] == email or user['token'] == token:\n",
    "                return user\n",
    "            \n",
    "    def get_preferences(self, email):\n",
    "        return self.get(email=email)['preferences']\n",
    "            \n",
    "    def save(self):\n",
    "        with open(subscribers_file, 'w') as f:\n",
    "            json.dump(self.users, f)\n",
    "        self.reload()\n",
    "        return True\n",
    "        \n",
    "    def update_preferences(self, uuid, new_preferences):\n",
    "        for i, user in enumerate(self.users):\n",
    "            if user['uuid'] == uuid:\n",
    "                self.users[i]['preferences'] = new_preferences\n",
    "                self.save()\n",
    "                return True\n",
    "        return False\n",
    "    \n",
    "    def generate_token(self, uuid):\n",
    "        token = self.salt(length=32)\n",
    "        return \"TOKEN\"\n",
    "    \n",
    "    def email_verification(self, uuid):\n",
    "        user = self.get(uuid=uuid)\n",
    "        return requests.post(\n",
    "            \"https://api.mailgun.net/v3/kotek.co/messages\",\n",
    "            auth=(\"api\", \"key-0500f40586ec016cbd2c131ea2222ae2\"),\n",
    "            data={\"from\": \"KOTEK.CO <vojtech@kotek.co>\",\n",
    "                \"to\": user['email'],\n",
    "                \"subject\": \"Verify your email\",\n",
    "                \"template\": \"email_verification\",\n",
    "                \"h:X-Mailgun-Variables\": json.dumps(user),\n",
    "                 })\n",
    "        \n",
    "    def update(self, uuid, option, value):\n",
    "        for i, user in enumerate(self.users):\n",
    "            if user['uuid'] == uuid:\n",
    "                self.users[i][option] = value\n",
    "                self.save()\n",
    "                self.reload()\n",
    "                return True\n",
    "        return False\n",
    "                \n",
    "    def verify(self, token):\n",
    "        for user in self.users:\n",
    "            if token == user['token']:\n",
    "                self.update(\n",
    "                    user['uuid'], 'verified', datetime.now().isoformat()\n",
    "                )\n",
    "                return True\n",
    "        return False\n",
    "    \n",
    "    def remove(uuid):\n",
    "        for i, user in enumerate(self.users):\n",
    "            if user['uuid'] == uuid:\n",
    "                return self.users.pop(i)\n",
    "        return False\n",
    "            \n",
    "    def exists(self, email=None, uuid=None):\n",
    "        \"\"\"Check whether the given user exists.\"\"\"\n",
    "        self.reload()\n",
    "        for user in self.users:\n",
    "            if user['email'] == email or user['uuid'] == uuid:\n",
    "                return True\n",
    "        return False\n",
    "    \n",
    "    def clear(self):\n",
    "        \"\"\"Deletes all subscribers from the database.\"\"\"\n",
    "        with open(subscribers_file, 'w') as f:\n",
    "            f.write(\"\")\n",
    "        self.reload()\n",
    "        \n",
    "    def salt(self=None, length=16):\n",
    "        \"\"\"Creates random salt of len 16 for user. Not yet implemented.\"\"\"\n",
    "        ALPHABET = \"0123456789abcdefghijklmnopqrstuvwxyzABCDEFGHIJKLMNOPQRSTUVWXYZ\"\n",
    "        chars = []\n",
    "        for char in range(length):\n",
    "            chars.append(random.choice(ALPHABET))\n",
    "        return \"\".join(chars)\n",
    "  \n",
    "x = User()\n",
    "User().users"
   ]
  },
  {
   "cell_type": "code",
   "execution_count": 451,
   "metadata": {},
   "outputs": [
    {
     "data": {
      "text/plain": [
       "[]"
      ]
     },
     "execution_count": 451,
     "metadata": {},
     "output_type": "execute_result"
    }
   ],
   "source": [
    "x.clear()\n",
    "x.users"
   ]
  },
  {
   "cell_type": "code",
   "execution_count": 452,
   "metadata": {},
   "outputs": [],
   "source": [
    "emails = [\n",
    "    'kotek.vojtech@gmail.com',\n",
    "    'vojtech.kotek@merck.com',\n",
    "    'drahomira.platlova@merck.com',\n",
    "    'vaclav.senych@merck.com',\n",
    "    'jakub.pospichal@merck.com',\n",
    "    'lukas.langer1@merck.com',\n",
    "    'robert.varga@merck.com',\n",
    "    'lusine.grigoryan@merck.com',\n",
    "]\n",
    "\n",
    "for email in emails:\n",
    "    user = x.add(email)\n",
    "    x.verify(user['token'])\n",
    "\n",
    "# x.verify('xxx')\n",
    "# x.reload()\n",
    "# x.get(email='kotek.vojtech@gmail.com')\n",
    "# x.users\n",
    "# x.update_preferences(\"this-is-some-weird-uuid\", [1,2,3,4,\"X\"])\n",
    "# x.email_verification('b1d75ea8-520c-4774-80f5-08457c632ae2')\n",
    "\n",
    "# User.salt(length=32)"
   ]
  },
  {
   "cell_type": "code",
   "execution_count": 415,
   "metadata": {},
   "outputs": [
    {
     "name": "stdout",
     "output_type": "stream",
     "text": [
      "26a0895a62aca8f2b86a8003b141a78aa9379873380d29cea57a3605 26a0895a62aca8f2b86a8003b141a78aa9379873380d29cea57a3605\n",
      "found user!\n"
     ]
    },
    {
     "data": {
      "text/plain": [
       "True"
      ]
     },
     "execution_count": 415,
     "metadata": {},
     "output_type": "execute_result"
    }
   ],
   "source": [
    "x.verify(z['token'])"
   ]
  },
  {
   "cell_type": "code",
   "execution_count": 390,
   "metadata": {
    "collapsed": true
   },
   "outputs": [],
   "source": [
    "x = {'email': 'kotek.vojtech@gmail.com',\n",
    "  'preferences': [1, 2, 3, 4, 5],\n",
    "  'registered': '2019-06-08T23:43:54.789965',\n",
    "  'token': 'thisisatokenbutnotarealone',\n",
    "  'uuid': '57688bca-b34f-425c-8fa0-e931fe818901',\n",
    "  'verified': False}"
   ]
  },
  {
   "cell_type": "code",
   "execution_count": 400,
   "metadata": {},
   "outputs": [
    {
     "name": "stdout",
     "output_type": "stream",
     "text": [
      "17Eq2zEkHgN6YQNK 608f8fad6ccf59f64045b72a474c57a045e3e6af629f3a6cf46eba18\n"
     ]
    }
   ],
   "source": [
    "import hashlib\n",
    "salt = User.salt()\n",
    "hash = hashlib.sha224((salt + x['email']).encode('UTF-8')).hexdigest()\n",
    "print(salt, hash)"
   ]
  },
  {
   "cell_type": "markdown",
   "metadata": {},
   "source": []
  },
  {
   "cell_type": "code",
   "execution_count": 125,
   "metadata": {
    "scrolled": true
   },
   "outputs": [
    {
     "name": "stdout",
     "output_type": "stream",
     "text": [
      "<_io.TextIOWrapper name='subscribers.json' mode='r' encoding='UTF-8'>\n"
     ]
    }
   ],
   "source": [
    "db_structure = {\n",
    "    'email': 'kotek.vojtech@gmail.com', \n",
    "    'token': 'x',\n",
    "    'verified': True,\n",
    "    'preferences': [1,2,3,4,5]\n",
    "}\n",
    "\n",
    "with open(subscribers_file, 'r') as subs:\n",
    "    print(subs)"
   ]
  },
  {
   "cell_type": "code",
   "execution_count": 43,
   "metadata": {
    "collapsed": true
   },
   "outputs": [],
   "source": [
    "preferences = {\n",
    "    1: \"Pastva\",\n",
    "    2: \"Sodexo, Riverview\",\n",
    "    3: \"Dave B, Weekly\",\n",
    "    4: \"Dave B, Daily\",\n",
    "    5: \"Potrefena Husa, Na Verandach\",\n",
    "}\n",
    "\n",
    "users_data = []\n",
    "# def add_user(email, preferences=None):\n",
    "#     if email in users_data\n",
    "    "
   ]
  },
  {
   "cell_type": "code",
   "execution_count": 93,
   "metadata": {},
   "outputs": [
    {
     "data": {
      "text/plain": [
       "False"
      ]
     },
     "execution_count": 93,
     "metadata": {},
     "output_type": "execute_result"
    }
   ],
   "source": [
    "import uuid as UUID\n",
    "\n",
    "def user_exists(uuid):\n",
    "    for user in users_data:\n",
    "        if user['email'] == email:\n",
    "            return user['token']\n",
    "        return False\n",
    "#     return any([email == user['email'] for user in users_data])\n",
    "\n",
    "def user_add(email):\n",
    "    if not user_exists(email):        \n",
    "        users_data.append({\n",
    "            'uuid': UUID.uuid4(),\n",
    "            'email': email, \n",
    "            'verified': False,\n",
    "        })\n",
    "        return True\n",
    "    return False\n",
    "    \n",
    "def user_remove(uuid):\n",
    "    if user_exists(uuid):\n",
    "        for i, user in enumerate(users_data):\n",
    "            if user['uuid'] == uuid:\n",
    "                users_data.pop(i)\n",
    "                return True\n",
    "    return False\n",
    "\n",
    "def user_info(uuid):\n",
    "    if user_exists(uuid):\n",
    "        for user in users_data:\n",
    "            if user['uuid'] == uuid:\n",
    "                return user\n",
    "    return False\n",
    "\n",
    "def user_verify(token):\n",
    "    # \n",
    "    if user_exists(email):\n",
    "        for i, user in enumerate(users_data):\n",
    "            if user['email'] == email:\n",
    "                users_data[i]['verified'] == True\n",
    "                return True\n",
    "    return False\n",
    "                \n",
    "def token_generate(email):\n",
    "    return \"GARGAETGHAETg\"\n",
    "    \n",
    "email = 'kotek.vojtech@gmail.com'\n",
    "user_info(email)"
   ]
  },
  {
   "cell_type": "code",
   "execution_count": 95,
   "metadata": {},
   "outputs": [
    {
     "data": {
      "text/plain": [
       "False"
      ]
     },
     "execution_count": 95,
     "metadata": {},
     "output_type": "execute_result"
    }
   ],
   "source": [
    "email = 'kotek.vojtech@gmail.com'\n",
    "# user_remove(email)\n",
    "user_add(email)\n",
    "user_exists(email)"
   ]
  },
  {
   "cell_type": "code",
   "execution_count": 96,
   "metadata": {},
   "outputs": [
    {
     "data": {
      "text/plain": [
       "[{'email': 'kotek.vojtech2@gmail.com', 'verified': False},\n",
       " {'email': 'kotek.vojtech@gmail.com',\n",
       "  'uuid': UUID('76657ac9-a384-4c36-9d27-83d1f5549d7a'),\n",
       "  'verified': False},\n",
       " {'email': 'kotek.vojtech@gmail.com',\n",
       "  'uuid': UUID('e567b9a1-4334-4307-a02f-a5f9a65f7b78'),\n",
       "  'verified': False}]"
      ]
     },
     "execution_count": 96,
     "metadata": {},
     "output_type": "execute_result"
    }
   ],
   "source": [
    "users_data"
   ]
  },
  {
   "cell_type": "code",
   "execution_count": 82,
   "metadata": {
    "collapsed": true
   },
   "outputs": [],
   "source": [
    "import uuid"
   ]
  },
  {
   "cell_type": "code",
   "execution_count": 86,
   "metadata": {},
   "outputs": [
    {
     "data": {
      "text/plain": [
       "UUID('17dc8468-8cab-421f-8735-b0acb3872ac3')"
      ]
     },
     "execution_count": 86,
     "metadata": {},
     "output_type": "execute_result"
    }
   ],
   "source": []
  },
  {
   "cell_type": "code",
   "execution_count": null,
   "metadata": {
    "collapsed": true
   },
   "outputs": [],
   "source": []
  }
 ],
 "metadata": {
  "kernelspec": {
   "display_name": "Python 3",
   "language": "python",
   "name": "python3"
  },
  "language_info": {
   "codemirror_mode": {
    "name": "ipython",
    "version": 3
   },
   "file_extension": ".py",
   "mimetype": "text/x-python",
   "name": "python",
   "nbconvert_exporter": "python",
   "pygments_lexer": "ipython3",
   "version": "3.5.2"
  }
 },
 "nbformat": 4,
 "nbformat_minor": 2
}
